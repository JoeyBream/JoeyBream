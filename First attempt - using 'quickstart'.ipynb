{
  "nbformat": 4,
  "nbformat_minor": 0,
  "metadata": {
    "kernelspec": {
      "display_name": "Python 3",
      "language": "python",
      "name": "python3"
    },
    "language_info": {
      "codemirror_mode": {
        "name": "ipython",
        "version": 3
      },
      "file_extension": ".py",
      "mimetype": "text/x-python",
      "name": "python",
      "nbconvert_exporter": "python",
      "pygments_lexer": "ipython3",
      "version": "3.7.10"
    },
    "colab": {
      "name": "quickstart.ipynb",
      "provenance": [],
      "include_colab_link": true
    },
    "widgets": {
      "application/vnd.jupyter.widget-state+json": {
        "7b677e89ca8942259b599870d8f649ef": {
          "model_module": "jupyter-sankey-widget",
          "model_name": "SankeyModel",
          "model_module_version": "^0.4.1",
          "state": {
            "_view_name": "SankeyView",
            "links": [
              {
                "source": 2016,
                "type": "Gas",
                "target": "Scope A",
                "value": 1220
              },
              {
                "source": 2016,
                "type": "Refrigerant",
                "target": "Scope A",
                "value": 0
              },
              {
                "source": 2016,
                "type": "Diesel + Fuels",
                "target": "Scope A",
                "value": 3
              },
              {
                "source": 2016,
                "type": "Other",
                "target": "Scope A",
                "value": 0
              },
              {
                "source": 2016,
                "type": "Electricity",
                "target": "Scope B",
                "value": 788
              },
              {
                "source": 2016,
                "type": "Food purchased",
                "target": "Scope B",
                "value": 0
              },
              {
                "source": 2016,
                "type": "Stuff purchased",
                "target": "Scope B",
                "value": 0
              },
              {
                "source": 2016,
                "type": "Waste produced",
                "target": "Scope B",
                "value": 0
              },
              {
                "source": 2016,
                "type": "Investments",
                "target": "Scope C",
                "value": 0
              },
              {
                "source": 2016,
                "type": "Bursaries",
                "target": "Scope C",
                "value": 0
              },
              {
                "source": 2016,
                "type": "Fellow expenses",
                "target": "Scope C",
                "value": 0
              },
              {
                "source": 2016,
                "type": "Choir",
                "target": "Scope C",
                "value": 0
              },
              {
                "source": 2017,
                "type": "Gas",
                "target": "Scope A",
                "value": 1230
              },
              {
                "source": 2017,
                "type": "Refrigerant",
                "target": "Scope A",
                "value": 0
              },
              {
                "source": 2017,
                "type": "Diesel + Fuels",
                "target": "Scope A",
                "value": 2
              },
              {
                "source": 2017,
                "type": "Other",
                "target": "Scope A",
                "value": 0
              },
              {
                "source": 2017,
                "type": "Electricity",
                "target": "Scope B",
                "value": 674
              },
              {
                "source": 2017,
                "type": "Food purchased",
                "target": "Scope B",
                "value": 0
              },
              {
                "source": 2017,
                "type": "Stuff purchased",
                "target": "Scope B",
                "value": 0
              },
              {
                "source": 2017,
                "type": "Waste produced",
                "target": "Scope B",
                "value": 0
              },
              {
                "source": 2017,
                "type": "Investments",
                "target": "Scope C",
                "value": 0
              },
              {
                "source": 2017,
                "type": "Bursaries",
                "target": "Scope C",
                "value": 0
              },
              {
                "source": 2017,
                "type": "Fellow expenses",
                "target": "Scope C",
                "value": 0
              },
              {
                "source": 2017,
                "type": "Choir",
                "target": "Scope C",
                "value": 0
              },
              {
                "source": 2018,
                "type": "Gas",
                "target": "Scope A",
                "value": 1163
              },
              {
                "source": 2018,
                "type": "Refrigerant",
                "target": "Scope A",
                "value": 25
              },
              {
                "source": 2018,
                "type": "Diesel + Fuels",
                "target": "Scope A",
                "value": 2
              },
              {
                "source": 2018,
                "type": "Other",
                "target": "Scope A",
                "value": 0
              },
              {
                "source": 2018,
                "type": "Electricity",
                "target": "Scope B",
                "value": 505
              },
              {
                "source": 2018,
                "type": "Food purchased",
                "target": "Scope B",
                "value": 0
              },
              {
                "source": 2018,
                "type": "Stuff purchased",
                "target": "Scope B",
                "value": 0
              },
              {
                "source": 2018,
                "type": "Waste produced",
                "target": "Scope B",
                "value": 0
              },
              {
                "source": 2018,
                "type": "Investments",
                "target": "Scope C",
                "value": 0
              },
              {
                "source": 2018,
                "type": "Bursaries",
                "target": "Scope C",
                "value": 0
              },
              {
                "source": 2018,
                "type": "Fellow expenses",
                "target": "Scope C",
                "value": 0
              },
              {
                "source": 2018,
                "type": "Choir",
                "target": "Scope C",
                "value": 0
              },
              {
                "source": 2019,
                "type": "Gas",
                "target": "Scope A",
                "value": 1193
              },
              {
                "source": 2019,
                "type": "Refrigerant",
                "target": "Scope A",
                "value": 7
              },
              {
                "source": 2019,
                "type": "Diesel + Fuels",
                "target": "Scope A",
                "value": 2
              },
              {
                "source": 2019,
                "type": "Other",
                "target": "Scope A",
                "value": 0
              },
              {
                "source": 2019,
                "type": "Electricity",
                "target": "Scope B",
                "value": 434
              },
              {
                "source": 2019,
                "type": "Food purchased",
                "target": "Scope B",
                "value": 0
              },
              {
                "source": 2019,
                "type": "Stuff purchased",
                "target": "Scope B",
                "value": 0
              },
              {
                "source": 2019,
                "type": "Waste produced",
                "target": "Scope B",
                "value": 0
              },
              {
                "source": 2019,
                "type": "Investments",
                "target": "Scope C",
                "value": 0
              },
              {
                "source": 2019,
                "type": "Bursaries",
                "target": "Scope C",
                "value": 0
              },
              {
                "source": 2019,
                "type": "Fellow expenses",
                "target": "Scope C",
                "value": 0
              },
              {
                "source": 2019,
                "type": "Choir",
                "target": "Scope C",
                "value": 0
              },
              {
                "source": 2020,
                "type": "Gas",
                "target": "Scope A",
                "value": 927
              },
              {
                "source": 2020,
                "type": "Refrigerant",
                "target": "Scope A",
                "value": 0
              },
              {
                "source": 2020,
                "type": "Diesel + Fuels",
                "target": "Scope A",
                "value": 1
              },
              {
                "source": 2020,
                "type": "Other",
                "target": "Scope A",
                "value": 0
              },
              {
                "source": 2020,
                "type": "Electricity",
                "target": "Scope B",
                "value": 318
              },
              {
                "source": 2020,
                "type": "Food purchased",
                "target": "Scope B",
                "value": 0
              },
              {
                "source": 2020,
                "type": "Stuff purchased",
                "target": "Scope B",
                "value": 0
              },
              {
                "source": 2020,
                "type": "Waste produced",
                "target": "Scope B",
                "value": 0
              },
              {
                "source": 2020,
                "type": "Investments",
                "target": "Scope C",
                "value": 0
              },
              {
                "source": 2020,
                "type": "Bursaries",
                "target": "Scope C",
                "value": 0
              },
              {
                "source": 2020,
                "type": "Fellow expenses",
                "target": "Scope C",
                "value": 0
              },
              {
                "source": 2020,
                "type": "Choir",
                "target": "Scope C",
                "value": 0
              }
            ],
            "_view_module": "jupyter-sankey-widget",
            "_model_module_version": "^0.4.1",
            "_view_count": null,
            "linkLabelFormat": "",
            "margins": {},
            "_model_module": "jupyter-sankey-widget",
            "scale": 0.0223687308688486,
            "layout": "IPY_MODEL_f83d5d74775b44da989d37f1d6983fd3",
            "linkLabelMinWidth": 5,
            "nodes": [
              {
                "id": 2016
              },
              {
                "id": 2017
              },
              {
                "id": 2018
              },
              {
                "id": 2019
              },
              {
                "id": 2020
              },
              {
                "id": "Scope B"
              },
              {
                "id": "Scope C"
              },
              {
                "id": "Scope A"
              }
            ],
            "rank_sets": [],
            "_dom_classes": [],
            "_model_name": "SankeyModel",
            "groups": [],
            "png": "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",
            "show_link_info_html": false,
            "align_link_types": false,
            "svg": "<?xml version=\"1.0\" standalone=\"no\"?><!DOCTYPE svg PUBLIC \"-//W3C//DTD SVG 1.1//EN\" \"http://www.w3.org/Graphics/SVG/1.1/DTD/svg11.dtd\"><svg xmlns=\"http://www.w3.org/2000/svg\"><g class=\"sankey\" transform=\"translate(100,10)\"><g class=\"groups\"/><g class=\"links\"><g class=\"link\"><path d=\"M1,65.35695785260184 A0 0 0 0 0 1,65.35695785260184 L399,65.35695785260184 A0 0 0 0 0 399,65.35695785260184 L399,65.35695785260184 A0 0 0 0 0 399,65.35695785260184 L1,65.35695785260184 A0 0 0 0 0 1,65.35695785260184 Z\" style=\"fill: white;\"/><title/><text class=\"label\" dy=\"0.35em\" x=\"5\" y=\"65.35695785260184\"/></g><g class=\"link\"><path d=\"M1,65.35695785260184 A0 0 0 0 0 1,65.35695785260184 L399,65.35695785260184 A0 0 0 0 0 399,65.35695785260184 L399,65.35695785260184 A0 0 0 0 0 399,65.35695785260184 L1,65.35695785260184 A0 0 0 0 0 1,65.35695785260184 Z\" style=\"fill: white;\"/><title/><text class=\"label\" dy=\"0.35em\" x=\"5\" y=\"65.35695785260184\"/></g><g class=\"link\"><path d=\"M1,82.98351777725453 A173.4281518080948 173.4281518080948 0.46969215977154777 0 1 79.49562853958786,101.7644577134678 L316.51537692333335,222.0706300684567 A182.24143177042112 182.24143177042112 0.46969215977154777 0 0 399,241.80598069225337 L399,241.80598069225337 A182.24143177042112 182.24143177042112 0.46969215977154777 0 1 316.51537692333335,222.0706300684567 L79.49562853958786,101.7644577134678 A173.4281518080948 173.4281518080948 0.46969215977154777 0 0 1,82.98351777725453 Z\" style=\"fill: white;\"/><title/><text class=\"label\" dy=\"0.35em\" x=\"5\" y=\"82.98351777725453\"/></g><g class=\"link\"><path d=\"M1,82.98351777725453 A173.4281518080948 173.4281518080948 0.46969215977154777 0 1 79.49562853958786,101.7644577134678 L316.51537692333335,222.0706300684567 A182.24143177042112 182.24143177042112 0.46969215977154777 0 0 399,241.80598069225337 L399,241.80598069225337 A182.24143177042112 182.24143177042112 0.46969215977154777 0 1 316.51537692333335,222.0706300684567 L79.49562853958786,101.7644577134678 A173.4281518080948 173.4281518080948 0.46969215977154777 0 0 1,82.98351777725453 Z\" style=\"fill: white;\"/><title/><text class=\"label\" dy=\"0.35em\" x=\"5\" y=\"82.98351777725453\"/></g><g class=\"link\"><path d=\"M1,82.98351777725453 A173.4281518080948 173.4281518080948 0.46969215977154777 0 1 79.49562853958786,101.7644577134678 L316.51537692333335,222.0706300684567 A182.24143177042112 182.24143177042112 0.46969215977154777 0 0 399,241.80598069225337 L399,241.80598069225337 A182.24143177042112 182.24143177042112 0.46969215977154777 0 1 316.51537692333335,222.0706300684567 L79.49562853958786,101.7644577134678 A173.4281518080948 173.4281518080948 0.46969215977154777 0 0 1,82.98351777725453 Z\" style=\"fill: white;\"/><title/><text class=\"label\" dy=\"0.35em\" x=\"5\" y=\"82.98351777725453\"/></g><g class=\"link\"><path d=\"M1,82.98351777725453 A130.5864029161254 130.5864029161254 0.710358522222028 0 1 86.15612706844983,114.56869519957775 L313.84387293155015,310.4148225776768 A130.5864029161254 130.5864029161254 0.710358522222028 0 0 399,342 L399,342 A130.5864029161254 130.5864029161254 0.710358522222028 0 1 313.84387293155015,310.4148225776768 L86.15612706844983,114.56869519957775 A130.5864029161254 130.5864029161254 0.710358522222028 0 0 1,82.98351777725453 Z\" style=\"fill: white;\"/><title/><text class=\"label\" dy=\"0.35em\" x=\"5\" y=\"82.98351777725453\"/></g><g class=\"link\"><path d=\"M1,82.98351777725453 A130.5864029161254 130.5864029161254 0.710358522222028 0 1 86.15612706844983,114.56869519957775 L313.84387293155015,310.4148225776768 A130.5864029161254 130.5864029161254 0.710358522222028 0 0 399,342 L399,342 A130.5864029161254 130.5864029161254 0.710358522222028 0 1 313.84387293155015,310.4148225776768 L86.15612706844983,114.56869519957775 A130.5864029161254 130.5864029161254 0.710358522222028 0 0 1,82.98351777725453 Z\" style=\"fill: white;\"/><title/><text class=\"label\" dy=\"0.35em\" x=\"5\" y=\"82.98351777725453\"/></g><g class=\"link\"><path d=\"M1,82.98351777725453 A130.5864029161254 130.5864029161254 0.710358522222028 0 1 86.15612706844983,114.56869519957775 L313.84387293155015,310.4148225776768 A130.5864029161254 130.5864029161254 0.710358522222028 0 0 399,342 L399,342 A130.5864029161254 130.5864029161254 0.710358522222028 0 1 313.84387293155015,310.4148225776768 L86.15612706844983,114.56869519957775 A130.5864029161254 130.5864029161254 0.710358522222028 0 0 1,82.98351777725453 Z\" style=\"fill: white;\"/><title/><text class=\"label\" dy=\"0.35em\" x=\"5\" y=\"82.98351777725453\"/></g><g class=\"link\"><path d=\"M1,82.98351777725453 A130.5864029161254 130.5864029161254 0.710358522222028 0 1 86.15612706844983,114.56869519957775 L313.84387293155015,310.4148225776768 A130.5864029161254 130.5864029161254 0.710358522222028 0 0 399,342 L399,342 A130.5864029161254 130.5864029161254 0.710358522222028 0 1 313.84387293155015,310.4148225776768 L86.15612706844983,114.56869519957775 A130.5864029161254 130.5864029161254 0.710358522222028 0 0 1,82.98351777725453 Z\" style=\"fill: white;\"/><title/><text class=\"label\" dy=\"0.35em\" x=\"5\" y=\"82.98351777725453\"/></g><g class=\"link\"><path d=\"M1,139.04179420767602 A549.5724300178533 549.5724300178533 0.14249015034490498 0 0 79.04393782942739,133.47212117162763 L324.8663941872477,98.20584309703213 A522.0365223183004 522.0365223183004 0.14249015034490498 0 1 399,92.91523428302331 L399,92.91523428302331 A522.0365223183004 522.0365223183004 0.14249015034490498 0 0 324.8663941872477,98.20584309703213 L79.04393782942739,133.47212117162763 A549.5724300178533 549.5724300178533 0.14249015034490498 0 1 1,139.04179420767602 Z\" style=\"fill: white;\"/><title/><text class=\"label\" dy=\"0.35em\" x=\"5\" y=\"139.04179420767602\"/></g><g class=\"link\"><path d=\"M1,139.04179420767602 A549.5724300178533 549.5724300178533 0.14249015034490498 0 0 79.04393782942739,133.47212117162763 L324.8663941872477,98.20584309703213 A522.0365223183004 522.0365223183004 0.14249015034490498 0 1 399,92.91523428302331 L399,92.91523428302331 A522.0365223183004 522.0365223183004 0.14249015034490498 0 0 324.8663941872477,98.20584309703213 L79.04393782942739,133.47212117162763 A549.5724300178533 549.5724300178533 0.14249015034490498 0 1 1,139.04179420767602 Z\" style=\"fill: white;\"/><title/><text class=\"label\" dy=\"0.35em\" x=\"5\" y=\"139.04179420767602\"/></g><g class=\"link\"><path d=\"M1,154.11831881327998 A246.62941994270767 246.62941994270767 0.3112579450134221 0 1 76.531832866447,165.96909193070337 L321.15952622408264,244.66951166241594 A254.16768224550964 254.16768224550964 0.3112579450134221 0 0 399,256.88250529785734 L399,256.88250529785734 A254.16768224550964 254.16768224550964 0.3112579450134221 0 1 321.15952622408264,244.66951166241594 L76.531832866447,165.96909193070337 A246.62941994270767 246.62941994270767 0.3112579450134221 0 0 1,154.11831881327998 Z\" style=\"fill: white;\"/><title/><text class=\"label\" dy=\"0.35em\" x=\"5\" y=\"154.11831881327998\"/></g><g class=\"link\"><path d=\"M1,154.11831881327998 A246.62941994270767 246.62941994270767 0.3112579450134221 0 1 76.531832866447,165.96909193070337 L321.15952622408264,244.66951166241594 A254.16768224550964 254.16768224550964 0.3112579450134221 0 0 399,256.88250529785734 L399,256.88250529785734 A254.16768224550964 254.16768224550964 0.3112579450134221 0 1 321.15952622408264,244.66951166241594 L76.531832866447,165.96909193070337 A246.62941994270767 246.62941994270767 0.3112579450134221 0 0 1,154.11831881327998 Z\" style=\"fill: white;\"/><title/><text class=\"label\" dy=\"0.35em\" x=\"5\" y=\"154.11831881327998\"/></g><g class=\"link\"><path d=\"M1,154.11831881327998 A246.62941994270767 246.62941994270767 0.3112579450134221 0 1 76.531832866447,165.96909193070337 L321.15952622408264,244.66951166241594 A254.16768224550964 254.16768224550964 0.3112579450134221 0 0 399,256.88250529785734 L399,256.88250529785734 A254.16768224550964 254.16768224550964 0.3112579450134221 0 1 321.15952622408264,244.66951166241594 L76.531832866447,165.96909193070337 A246.62941994270767 246.62941994270767 0.3112579450134221 0 0 1,154.11831881327998 Z\" style=\"fill: white;\"/><title/><text class=\"label\" dy=\"0.35em\" x=\"5\" y=\"154.11831881327998\"/></g><g class=\"link\"><path d=\"M1,154.11831881327998 A154.64801429978885 154.64801429978885 0.5419083600104972 0 1 80.76309574494671,176.2753640470598 L319.2369042550533,319.8429547662202 A154.64801429978885 154.64801429978885 0.5419083600104972 0 0 399,342 L399,342 A154.64801429978885 154.64801429978885 0.5419083600104972 0 1 319.2369042550533,319.8429547662202 L80.76309574494671,176.2753640470598 A154.64801429978885 154.64801429978885 0.5419083600104972 0 0 1,154.11831881327998 Z\" style=\"fill: white;\"/><title/><text class=\"label\" dy=\"0.35em\" x=\"5\" y=\"154.11831881327998\"/></g><g class=\"link\"><path d=\"M1,154.11831881327998 A154.64801429978885 154.64801429978885 0.5419083600104972 0 1 80.76309574494671,176.2753640470598 L319.2369042550533,319.8429547662202 A154.64801429978885 154.64801429978885 0.5419083600104972 0 0 399,342 L399,342 A154.64801429978885 154.64801429978885 0.5419083600104972 0 1 319.2369042550533,319.8429547662202 L80.76309574494671,176.2753640470598 A154.64801429978885 154.64801429978885 0.5419083600104972 0 0 1,154.11831881327998 Z\" style=\"fill: white;\"/><title/><text class=\"label\" dy=\"0.35em\" x=\"5\" y=\"154.11831881327998\"/></g><g class=\"link\"><path d=\"M1,154.11831881327998 A154.64801429978885 154.64801429978885 0.5419083600104972 0 1 80.76309574494671,176.2753640470598 L319.2369042550533,319.8429547662202 A154.64801429978885 154.64801429978885 0.5419083600104972 0 0 399,342 L399,342 A154.64801429978885 154.64801429978885 0.5419083600104972 0 1 319.2369042550533,319.8429547662202 L80.76309574494671,176.2753640470598 A154.64801429978885 154.64801429978885 0.5419083600104972 0 0 1,154.11831881327998 Z\" style=\"fill: white;\"/><title/><text class=\"label\" dy=\"0.35em\" x=\"5\" y=\"154.11831881327998\"/></g><g class=\"link\"><path d=\"M1,154.11831881327998 A154.64801429978885 154.64801429978885 0.5419083600104972 0 1 80.76309574494671,176.2753640470598 L319.2369042550533,319.8429547662202 A154.64801429978885 154.64801429978885 0.5419083600104972 0 0 399,342 L399,342 A154.64801429978885 154.64801429978885 0.5419083600104972 0 1 319.2369042550533,319.8429547662202 L80.76309574494671,176.2753640470598 A154.64801429978885 154.64801429978885 0.5419083600104972 0 0 1,154.11831881327998 Z\" style=\"fill: white;\"/><title/><text class=\"label\" dy=\"0.35em\" x=\"5\" y=\"154.11831881327998\"/></g><g class=\"link\"><path d=\"M1,208.6778902754886 A304.3731890230356 304.3731890230356 0.2756529257851259 0 0 83.84285528581938,197.18710004784893 L323.16772473796755,129.49318737892003 A278.6155954275565 278.6155954275565 0.2756529257851259 0 1 399,118.97480574523193 L399,118.97480574523193 A278.6155954275565 278.6155954275565 0.2756529257851259 0 0 323.16772473796755,129.49318737892003 L83.84285528581938,197.18710004784893 A304.3731890230356 304.3731890230356 0.2756529257851259 0 1 1,208.6778902754886 Z\" style=\"fill: white;\"/><title/><text class=\"label\" dy=\"0.35em\" x=\"5\" y=\"208.6778902754886\"/></g><g class=\"link\"><path d=\"M1,220.53331763597836 A505.84346481281955 505.84346481281955 0.14623843515240087 0 1 74.71037533301627,225.93258829514 L324.46659553871234,262.71915700386756 A511.4915693572035 511.4915693572035 0.14623843515240087 0 0 399,268.17871438662587 L399,268.17871438662587 A511.4915693572035 511.4915693572035 0.14623843515240087 0 1 324.46659553871234,262.71915700386756 L74.71037533301627,225.93258829514 A505.84346481281955 505.84346481281955 0.14623843515240087 0 0 1,220.53331763597836 Z\" style=\"fill: white;\"/><title/><text class=\"label\" dy=\"0.35em\" x=\"5\" y=\"220.53331763597836\"/></g><g class=\"link\"><path d=\"M1,220.53331763597836 A505.84346481281955 505.84346481281955 0.14623843515240087 0 1 74.71037533301627,225.93258829514 L324.46659553871234,262.71915700386756 A511.4915693572035 511.4915693572035 0.14623843515240087 0 0 399,268.17871438662587 L399,268.17871438662587 A511.4915693572035 511.4915693572035 0.14623843515240087 0 1 324.46659553871234,262.71915700386756 L74.71037533301627,225.93258829514 A505.84346481281955 505.84346481281955 0.14623843515240087 0 0 1,220.53331763597836 Z\" style=\"fill: white;\"/><title/><text class=\"label\" dy=\"0.35em\" x=\"5\" y=\"220.53331763597836\"/></g><g class=\"link\"><path d=\"M1,220.53331763597836 A505.84346481281955 505.84346481281955 0.14623843515240087 0 1 74.71037533301627,225.93258829514 L324.46659553871234,262.71915700386756 A511.4915693572035 511.4915693572035 0.14623843515240087 0 0 399,268.17871438662587 L399,268.17871438662587 A511.4915693572035 511.4915693572035 0.14623843515240087 0 1 324.46659553871234,262.71915700386756 L74.71037533301627,225.93258829514 A505.84346481281955 505.84346481281955 0.14623843515240087 0 0 1,220.53331763597836 Z\" style=\"fill: white;\"/><title/><text class=\"label\" dy=\"0.35em\" x=\"5\" y=\"220.53331763597836\"/></g><g class=\"link\"><path d=\"M1,220.53331763597836 A213.83413733848485 213.83413733848485 0.3633726137711837 0 1 77.00277711873952,234.4959558518189 L322.9972228812605,328.0373617841595 A213.83413733848485 213.83413733848485 0.3633726137711837 0 0 399,342 L399,342 A213.83413733848485 213.83413733848485 0.3633726137711837 0 1 322.9972228812605,328.0373617841595 L77.00277711873952,234.4959558518189 A213.83413733848485 213.83413733848485 0.3633726137711837 0 0 1,220.53331763597836 Z\" style=\"fill: white;\"/><title/><text class=\"label\" dy=\"0.35em\" x=\"5\" y=\"220.53331763597836\"/></g><g class=\"link\"><path d=\"M1,220.53331763597836 A213.83413733848485 213.83413733848485 0.3633726137711837 0 1 77.00277711873952,234.4959558518189 L322.9972228812605,328.0373617841595 A213.83413733848485 213.83413733848485 0.3633726137711837 0 0 399,342 L399,342 A213.83413733848485 213.83413733848485 0.3633726137711837 0 1 322.9972228812605,328.0373617841595 L77.00277711873952,234.4959558518189 A213.83413733848485 213.83413733848485 0.3633726137711837 0 0 1,220.53331763597836 Z\" style=\"fill: white;\"/><title/><text class=\"label\" dy=\"0.35em\" x=\"5\" y=\"220.53331763597836\"/></g><g class=\"link\"><path d=\"M1,220.53331763597836 A213.83413733848485 213.83413733848485 0.3633726137711837 0 1 77.00277711873952,234.4959558518189 L322.9972228812605,328.0373617841595 A213.83413733848485 213.83413733848485 0.3633726137711837 0 0 399,342 L399,342 A213.83413733848485 213.83413733848485 0.3633726137711837 0 1 322.9972228812605,328.0373617841595 L77.00277711873952,234.4959558518189 A213.83413733848485 213.83413733848485 0.3633726137711837 0 0 1,220.53331763597836 Z\" style=\"fill: white;\"/><title/><text class=\"label\" dy=\"0.35em\" x=\"5\" y=\"220.53331763597836\"/></g><g class=\"link\"><path d=\"M1,220.53331763597836 A213.83413733848485 213.83413733848485 0.3633726137711837 0 1 77.00277711873952,234.4959558518189 L322.9972228812605,328.0373617841595 A213.83413733848485 213.83413733848485 0.3633726137711837 0 0 399,342 L399,342 A213.83413733848485 213.83413733848485 0.3633726137711837 0 1 322.9972228812605,328.0373617841595 L77.00277711873952,234.4959558518189 A213.83413733848485 213.83413733848485 0.3633726137711837 0 0 1,220.53331763597836 Z\" style=\"fill: white;\"/><title/><text class=\"label\" dy=\"0.35em\" x=\"5\" y=\"220.53331763597836\"/></g><g class=\"link\"><path d=\"M1,275.76395102425244 A229.6136962072933 229.6136962072933 0.3937458888426122 0 0 89.09137404447594,258.1935506433809 L321.12522473830734,161.79729037593674 A202.98372210792905 202.98372210792905 0.3937458888426122 0 1 399,146.26465740522724 L399,146.26465740522724 A202.98372210792905 202.98372210792905 0.3937458888426122 0 0 321.12522473830734,161.79729037593674 L89.09137404447594,258.1935506433809 A229.6136962072933 229.6136962072933 0.3937458888426122 0 1 1,275.76395102425244 Z\" style=\"fill: white;\"/><title/><text class=\"label\" dy=\"0.35em\" x=\"5\" y=\"275.76395102425244\"/></g><g class=\"link\"><path d=\"M1,285.6285613374147 A3075.139458857896 3075.139458857896 0.02383394461994226 0 0 74.28576468691152,284.7551755641317 L325.82991467541217,278.75875074397 A3070.285444259333 3070.285444259333 0.02383394461994226 0 1 399,277.88674358370616 L399,277.88674358370616 A3070.285444259333 3070.285444259333 0.02383394461994226 0 0 325.82991467541217,278.75875074397 L74.28576468691152,284.7551755641317 A3075.139458857896 3075.139458857896 0.02383394461994226 0 1 1,285.6285613374147 Z\" style=\"fill: white;\"/><title/><text class=\"label\" dy=\"0.35em\" x=\"5\" y=\"285.6285613374147\"/></g><g class=\"link\"><path d=\"M1,285.6285613374147 A3075.139458857896 3075.139458857896 0.02383394461994226 0 0 74.28576468691152,284.7551755641317 L325.82991467541217,278.75875074397 A3070.285444259333 3070.285444259333 0.02383394461994226 0 1 399,277.88674358370616 L399,277.88674358370616 A3070.285444259333 3070.285444259333 0.02383394461994226 0 0 325.82991467541217,278.75875074397 L74.28576468691152,284.7551755641317 A3075.139458857896 3075.139458857896 0.02383394461994226 0 1 1,285.6285613374147 Z\" style=\"fill: white;\"/><title/><text class=\"label\" dy=\"0.35em\" x=\"5\" y=\"285.6285613374147\"/></g><g class=\"link\"><path d=\"M1,285.6285613374147 A3075.139458857896 3075.139458857896 0.02383394461994226 0 0 74.28576468691152,284.7551755641317 L325.82991467541217,278.75875074397 A3070.285444259333 3070.285444259333 0.02383394461994226 0 1 399,277.88674358370616 L399,277.88674358370616 A3070.285444259333 3070.285444259333 0.02383394461994226 0 0 325.82991467541217,278.75875074397 L74.28576468691152,284.7551755641317 A3075.139458857896 3075.139458857896 0.02383394461994226 0 1 1,285.6285613374147 Z\" style=\"fill: white;\"/><title/><text class=\"label\" dy=\"0.35em\" x=\"5\" y=\"285.6285613374147\"/></g><g class=\"link\"><path d=\"M1,285.6285613374147 A429.9564006093058 429.9564006093058 0.17242915564053773 0 1 74.77019352336787,292.00443244561757 L325.2298064766321,335.6241288917971 A429.9564006093058 429.9564006093058 0.17242915564053773 0 0 399,342 L399,342 A429.9564006093058 429.9564006093058 0.17242915564053773 0 1 325.2298064766321,335.6241288917971 L74.77019352336787,292.00443244561757 A429.9564006093058 429.9564006093058 0.17242915564053773 0 0 1,285.6285613374147 Z\" style=\"fill: white;\"/><title/><text class=\"label\" dy=\"0.35em\" x=\"5\" y=\"285.6285613374147\"/></g><g class=\"link\"><path d=\"M1,285.6285613374147 A429.9564006093058 429.9564006093058 0.17242915564053773 0 1 74.77019352336787,292.00443244561757 L325.2298064766321,335.6241288917971 A429.9564006093058 429.9564006093058 0.17242915564053773 0 0 399,342 L399,342 A429.9564006093058 429.9564006093058 0.17242915564053773 0 1 325.2298064766321,335.6241288917971 L74.77019352336787,292.00443244561757 A429.9564006093058 429.9564006093058 0.17242915564053773 0 0 1,285.6285613374147 Z\" style=\"fill: white;\"/><title/><text class=\"label\" dy=\"0.35em\" x=\"5\" y=\"285.6285613374147\"/></g><g class=\"link\"><path d=\"M1,285.6285613374147 A429.9564006093058 429.9564006093058 0.17242915564053773 0 1 74.77019352336787,292.00443244561757 L325.2298064766321,335.6241288917971 A429.9564006093058 429.9564006093058 0.17242915564053773 0 0 399,342 L399,342 A429.9564006093058 429.9564006093058 0.17242915564053773 0 1 325.2298064766321,335.6241288917971 L74.77019352336787,292.00443244561757 A429.9564006093058 429.9564006093058 0.17242915564053773 0 0 1,285.6285613374147 Z\" style=\"fill: white;\"/><title/><text class=\"label\" dy=\"0.35em\" x=\"5\" y=\"285.6285613374147\"/></g><g class=\"link\"><path d=\"M1,285.6285613374147 A429.9564006093058 429.9564006093058 0.17242915564053773 0 1 74.77019352336787,292.00443244561757 L325.2298064766321,335.6241288917971 A429.9564006093058 429.9564006093058 0.17242915564053773 0 0 399,342 L399,342 A429.9564006093058 429.9564006093058 0.17242915564053773 0 1 325.2298064766321,335.6241288917971 L74.77019352336787,292.00443244561757 A429.9564006093058 429.9564006093058 0.17242915564053773 0 0 1,285.6285613374147 Z\" style=\"fill: white;\"/><title/><text class=\"label\" dy=\"0.35em\" x=\"5\" y=\"285.6285613374147\"/></g><g class=\"link\"><path d=\"M1,334.88674358370616 A187.58206178323576 187.58206178323576 0.49904781003047827 0 0 90.77484193857546,312.00898550184144 L319.15445747176057,187.52684735651226 A166.83506390237872 166.83506390237872 0.49904781003047827 0 1 399,167.1794207676007 L399,167.1794207676007 A166.83506390237872 166.83506390237872 0.49904781003047827 0 0 319.15445747176057,187.52684735651226 L90.77484193857546,312.00898550184144 A187.58206178323576 187.58206178323576 0.49904781003047827 0 1 1,334.88674358370616 Z\" style=\"fill: white;\"/><title/><text class=\"label\" dy=\"0.35em\" x=\"5\" y=\"334.88674358370616\"/></g><g class=\"link\"><path d=\"M1,334.88674358370616 A187.58206178323576 187.58206178323576 0.49904781003047827 0 0 90.77484193857546,312.00898550184144 L319.15445747176057,187.52684735651226 A166.83506390237872 166.83506390237872 0.49904781003047827 0 1 399,167.1794207676007 L399,167.1794207676007 A166.83506390237872 166.83506390237872 0.49904781003047827 0 0 319.15445747176057,187.52684735651226 L90.77484193857546,312.00898550184144 A187.58206178323576 187.58206178323576 0.49904781003047827 0 1 1,334.88674358370616 Z\" style=\"fill: white;\"/><title/><text class=\"label\" dy=\"0.35em\" x=\"5\" y=\"334.88674358370616\"/></g><g class=\"link\"><path d=\"M1,342 A428.9592597870943 428.9592597870943 0.1745398054712779 0 0 75.49090027220481,335.482632469969 L325.1267258335701,291.46333010649647 A425.40263157894736 425.40263157894736 0.1745398054712779 0 1 399,285 L399,285 A425.40263157894736 425.40263157894736 0.1745398054712779 0 0 325.1267258335701,291.46333010649647 L75.49090027220481,335.482632469969 A428.9592597870943 428.9592597870943 0.1745398054712779 0 1 1,342 Z\" style=\"fill: white;\"/><title/><text class=\"label\" dy=\"0.35em\" x=\"5\" y=\"342\"/></g><g class=\"link\"><path d=\"M1,342 A428.9592597870943 428.9592597870943 0.1745398054712779 0 0 75.49090027220481,335.482632469969 L325.1267258335701,291.46333010649647 A425.40263157894736 425.40263157894736 0.1745398054712779 0 1 399,285 L399,285 A425.40263157894736 425.40263157894736 0.1745398054712779 0 0 325.1267258335701,291.46333010649647 L75.49090027220481,335.482632469969 A428.9592597870943 428.9592597870943 0.1745398054712779 0 1 1,342 Z\" style=\"fill: white;\"/><title/><text class=\"label\" dy=\"0.35em\" x=\"5\" y=\"342\"/></g><g class=\"link\"><path d=\"M1,342 A428.9592597870943 428.9592597870943 0.1745398054712779 0 0 75.49090027220481,335.482632469969 L325.1267258335701,291.46333010649647 A425.40263157894736 425.40263157894736 0.1745398054712779 0 1 399,285 L399,285 A425.40263157894736 425.40263157894736 0.1745398054712779 0 0 325.1267258335701,291.46333010649647 L75.49090027220481,335.482632469969 A428.9592597870943 428.9592597870943 0.1745398054712779 0 1 1,342 Z\" style=\"fill: white;\"/><title/><text class=\"label\" dy=\"0.35em\" x=\"5\" y=\"342\"/></g><g class=\"link\"><path d=\"M1,342 A0 0 0 0 0 1,342 L399,342 A0 0 0 0 0 399,342 L399,342 A0 0 0 0 0 399,342 L1,342 A0 0 0 0 0 1,342 Z\" style=\"fill: white;\"/><title/><text class=\"label\" dy=\"0.35em\" x=\"5\" y=\"342\"/></g><g class=\"link\"><path d=\"M1,342 A0 0 0 0 0 1,342 L399,342 A0 0 0 0 0 399,342 L399,342 A0 0 0 0 0 399,342 L1,342 A0 0 0 0 0 1,342 Z\" style=\"fill: white;\"/><title/><text class=\"label\" dy=\"0.35em\" x=\"5\" y=\"342\"/></g><g class=\"link\"><path d=\"M1,342 A0 0 0 0 0 1,342 L399,342 A0 0 0 0 0 399,342 L399,342 A0 0 0 0 0 399,342 L1,342 A0 0 0 0 0 1,342 Z\" style=\"fill: white;\"/><title/><text class=\"label\" dy=\"0.35em\" x=\"5\" y=\"342\"/></g><g class=\"link\"><path d=\"M1,342 A0 0 0 0 0 1,342 L399,342 A0 0 0 0 0 399,342 L399,342 A0 0 0 0 0 399,342 L1,342 A0 0 0 0 0 1,342 Z\" style=\"fill: white;\"/><title/><text class=\"label\" dy=\"0.35em\" x=\"5\" y=\"342\"/></g><g class=\"link\"><path d=\"M1,313.1397457028491 A165.8350639023787 165.8350639023787 0.49904781003047827 0 0 80.36695283216115,292.9142804457641 L308.7465683653462,168.43214230043495 A188.5820617832358 188.5820617832358 0.49904781003047827 0 1 399,145.4324228867436 L399,147.4324228867436 A186.5820617832358 186.5820617832358 0.49904781003047827 0 0 309.7037477575028,170.18821963678172 L81.3241322243177,294.67035778211095 A167.8350639023787 167.8350639023787 0.49904781003047827 0 1 1,315.1397457028491 Z\" style=\"fill: white;\"/><title/><text class=\"label\" dy=\"0.35em\" x=\"5\" y=\"314.1397457028491\"/></g><g class=\"link\"><path d=\"M1,110.50588650812338 A521.0365223183006 521.0365223183006 0.14249015034490498 0 0 74.99159734659455,105.22541225096607 L320.8140537044149,69.95913417637058 A550.5724300178531 550.5724300178531 0.14249015034490498 0 1 399,64.37932658347069 L399,66.37932658347069 A548.5724300178531 548.5724300178531 0.14249015034490498 0 0 321.09807063673037,71.93886506266753 L75.27561427891007,107.20514313726302 A523.0365223183006 523.0365223183006 0.14249015034490498 0 1 1,112.50588650812338 Z\" style=\"fill: white;\"/><title/><text class=\"label\" dy=\"0.35em\" x=\"5\" y=\"111.50588650812338\"/></g><g class=\"link\"><path d=\"M1,181.64068754414885 A277.3359862916958 277.3359862916958 0.2756529257851259 0 0 76.48399729837612,171.17061410804126 L315.8088667505243,103.47670143911239 A305.6527981588963 305.6527981588963 0.2756529257851259 0 1 399,91.93760301389216 L399,93.93760301389216 A303.6527981588963 303.6527981588963 0.2756529257851259 0 0 316.35321729303905,105.40119682410656 L77.02834784089089,173.09510949303547 A279.3359862916958 279.3359862916958 0.2756529257851259 0 1 1,183.64068754414885 Z\" style=\"fill: white;\"/><title/><text class=\"label\" dy=\"0.35em\" x=\"5\" y=\"182.64068754414885\"/></g><g class=\"link\"><path d=\"M1,248.05568636684723 A201.90543154988805 201.90543154988805 0.3937458888426122 0 0 78.46108871578531,232.60556588186762 L310.4949394096167,136.20930561442344 A230.6919867653343 230.6919867653343 0.3937458888426122 0 1 399,118.556392747822 L399,120.556392747822 A228.6919867653343 228.6919867653343 0.3937458888426122 0 0 311.26224010203657,138.05626247569876 L79.22838940820523,234.45252274314294 A203.90543154988805 203.90543154988805 0.3937458888426122 0 1 1,250.05568636684723 Z\" style=\"fill: white;\"/><title/><text class=\"label\" dy=\"0.35em\" x=\"5\" y=\"249.05568636684723\"/></g><g class=\"link\"><path d=\"M1,37.03355309630327 A0 0 0 0 0 1,37.03355309630327 L399,37.03355309630327 A0 0 0 0 0 399,37.03355309630327 L399,39.03355309630327 A0 0 0 0 0 399,39.03355309630327 L1,39.03355309630327 A0 0 0 0 0 1,39.03355309630327 Z\" style=\"fill: white;\"/><title/><text class=\"label\" dy=\"0.35em\" x=\"5\" y=\"38.03355309630327\"/></g><g class=\"link\"><path d=\"M1,274.8422415822934 A228.69198676533426 228.69198676533426 0.3937458888426122 0 0 88.73775989796337,257.3423718544167 L320.7716105917948,160.9461115869725 A203.90543154988808 203.90543154988808 0.3937458888426122 0 1 399,145.34294796326822 L399,147.34294796326822 A201.90543154988808 201.90543154988808 0.3937458888426122 0 0 321.5389112842147,162.79306844824782 L89.5050605903833,259.189328715692 A230.69198676533426 230.69198676533426 0.3937458888426122 0 1 1,276.8422415822934 Z\" style=\"fill: white;\"/><title/><text class=\"label\" dy=\"0.35em\" x=\"5\" y=\"275.8422415822934\"/></g><g class=\"link\"><path d=\"M1,207.9574994113492 A303.6527981588962 303.6527981588962 0.2756529257851259 0 0 83.6467827069609,196.4939056011348 L322.97165215910906,128.79999293220592 A279.3359862916959 279.3359862916959 0.2756529257851259 0 1 399,118.25441488109254 L399,120.25441488109254 A277.3359862916959 277.3359862916959 0.2756529257851259 0 0 323.5160027016238,130.72448831720013 L84.19113324947567,198.418400986129 A305.6527981588962 305.6527981588962 0.2756529257851259 0 1 1,209.9574994113492 Z\" style=\"fill: white;\"/><title/><text class=\"label\" dy=\"0.35em\" x=\"5\" y=\"208.9574994113492\"/></g><g class=\"link\"><path d=\"M1,334.88674358370616 A421.8460033708004 421.8460033708004 0.1745398054712779 0 0 74.25564806065502,328.4774509007442 L323.89147362202027,284.45814853727165 A432.51588799524126 432.51588799524126 0.1745398054712779 0 1 399,277.88674358370616 L399,285.00000000000006 A425.40263157894736 425.40263157894736 0.1745398054712779 0 0 325.12672583357005,291.4633301064965 L75.4909002722048,335.4826324699691 A428.9592597870943 428.9592597870943 0.1745398054712779 0 1 1,342.00000000000006 Z\" style=\"fill: white;\"/><title/><text class=\"label\" dy=\"0.35em\" x=\"5\" y=\"338.4433717918531\"/></g><g class=\"link\"><path d=\"M1,275.92053214033433 A3065.4314296608154 3065.4314296608154 0.02383394461994226 0 0 74.05440596226521,275.0499035930897 L325.5985559507659,269.05347877292803 A3079.9934734564135 3079.9934734564135 0.02383394461994226 0 1 399,268.17871438662587 L399,277.8867435837062 A3070.285444259333 3070.285444259333 0.02383394461994226 0 0 325.82991467541217,278.75875074397 L74.2857646869115,284.75517556413166 A3075.139458857896 3075.139458857896 0.02383394461994226 0 1 1,285.6285613374147 Z\" style=\"fill: white;\"/><title/><text class=\"label\" dy=\"0.35em\" x=\"5\" y=\"280.7745467388745\"/></g><g class=\"link\"><path d=\"M1,209.23710854720983 A517.1396739015881 517.1396739015881 0.14623843515240198 0 1 76.35643358955963,214.75695265356492 L326.11265379525463,251.54352136229238 A500.1953602684349 500.1953602684349 0.14623843515240198 0 0 399,256.88250529785734 L399,268.1787143866259 A511.4915693572035 511.4915693572035 0.14623843515240198 0 1 324.46659553871183,262.7191570038675 L74.71037533301683,225.93258829514005 A505.84346481281955 505.84346481281955 0.14623843515240198 0 0 1,220.53331763597836 Z\" style=\"fill: white;\"/><title/><text class=\"label\" dy=\"0.35em\" x=\"5\" y=\"214.8852130915941\"/></g><g class=\"link\"><path d=\"M1,139.04179420767602 A261.7059445483116 261.7059445483116 0.3112579450134221 0 1 81.14911468538769,151.61700836113542 L325.7768080430233,230.317428092848 A239.0911576399057 239.0911576399057 0.3112579450134221 0 0 399,241.80598069225337 L399,256.88250529785734 A254.16768224550964 254.16768224550964 0.3112579450134221 0 1 321.15952622408264,244.6695116624159 L76.531832866447,165.96909193070334 A246.62941994270767 246.62941994270767 0.3112579450134221 0 0 1,154.11831881327996 Z\" style=\"fill: white;\"/><title/><text class=\"label\" dy=\"0.35em\" x=\"5\" y=\"146.580056510478\"/></g><g class=\"link\"><path d=\"M1,65.35695785260184 A191.05471173274753 191.05471173274753 0.46969215977154777 0 1 87.47361761374546,86.04671916398192 L324.4933659974909,206.35289151897084 A164.61487184576845 164.61487184576845 0.46969215977154777 0 0 399,224.17942076760067 L399,241.8059806922534 A182.24143177042112 182.24143177042112 0.46969215977154777 0 1 316.51537692333335,222.07063006845672 L79.49562853958787,101.7644577134678 A173.4281518080948 173.4281518080948 0.46969215977154777 0 0 1,82.98351777725453 Z\" style=\"fill: white;\"/><title/><text class=\"label\" dy=\"0.35em\" x=\"5\" y=\"74.17023781492819\"/></g><g class=\"link\"><path d=\"M1,314.1509300682835 A166.8462482678131 166.8462482678131 0.49904781003047827 0 0 80.85089525029349,293.802139419268 L309.2305107834786,169.32000127393874 A187.57087741780137 187.57087741780137 0.49904781003047827 0 1 399,146.44360725217805 L399,167.1794207676007 A166.83506390237872 166.83506390237872 0.49904781003047827 0 0 319.15445747176057,187.52684735651226 L90.77484193857546,312.0089855018415 A187.58206178323576 187.58206178323576 0.49904781003047827 0 1 1,334.8867435837062 Z\" style=\"fill: white;\"/><title/><text class=\"label\" dy=\"0.35em\" x=\"5\" y=\"324.51883682599487\"/></g><g class=\"link\"><path d=\"M1,182.66305627501768 A278.35835502256464 278.35835502256464 0.2756529257851259 0 0 76.76226078502543,172.15438606020098 L316.0871302371736,104.46047339127212 A304.63042942802747 304.63042942802747 0.2756529257851259 0 1 399,92.959971744761 L399,118.97480574523193 A278.6155954275565 278.6155954275565 0.2756529257851259 0 0 323.16772473796755,129.49318737892006 L83.84285528581938,197.1871000478489 A304.3731890230356 304.3731890230356 0.2756529257851259 0 1 1,208.67789027548858 Z\" style=\"fill: white;\"/><title/><text class=\"label\" dy=\"0.35em\" x=\"5\" y=\"195.67047327525313\"/></g><g class=\"link\"><path d=\"M1,249.0780550977161 A202.9278002807569 202.9278002807569 0.3937458888426122 0 0 78.85332083333739,233.54970135298342 L310.8871715271688,137.15344108553924 A229.66961803446543 229.66961803446543 0.3937458888426122 0 1 399,119.57876147869086 L399,146.26465740522724 A202.98372210792905 202.98372210792905 0.3937458888426122 0 0 321.12522473830734,161.79729037593674 L89.09137404447594,258.19355064338095 A229.6136962072933 229.6136962072933 0.3937458888426122 0 1 1,275.7639510242525 Z\" style=\"fill: white;\"/><title/><text class=\"label\" dy=\"0.35em\" x=\"5\" y=\"262.4210030609843\"/></g><g class=\"link\"><path d=\"M1,38.067106192606545 A0 0 0 0 0 1,38.067106192606545 L399,38.067106192606545 A0 0 0 0 0 399,38.067106192606545 L399,65.35695785260184 A0 0 0 0 0 399,65.35695785260184 L1,65.35695785260184 A0 0 0 0 0 1,65.35695785260184 Z\" style=\"fill: white;\"/><title/><text class=\"label\" dy=\"0.35em\" x=\"5\" y=\"51.71203202260419\"/></g><g class=\"link\"><path d=\"M1,111.52825523899223 A522.0588910491695 522.0588910491695 0.14249015034490498 0 0 75.13678236191289,106.23741972780871 L320.9592387197332,70.97114165321322 A549.5500612869843 549.5500612869843 0.14249015034490498 0 1 399,65.40169531433953 L399,92.91523428302331 A522.0365223183004 522.0365223183004 0.14249015034490498 0 0 324.8663941872477,98.20584309703214 L79.04393782942738,133.47212117162763 A549.5724300178533 549.5724300178533 0.14249015034490498 0 1 1,139.04179420767602 Z\" style=\"fill: white;\"/><title/><text class=\"label\" dy=\"0.35em\" x=\"5\" y=\"125.28502472333412\"/></g></g><g class=\"nodes\"><g class=\"node\" transform=\"translate(0,38)\"><title>2016</title><line x1=\"0\" x2=\"0\" y1=\"0\" y2=\"44.983517777254534\" style=\"display: inline;\"/><rect class=\"node-body\" width=\"1\" height=\"44.983517777254534\"/><text class=\"node-value\" dy=\".35em\" text-anchor=\"middle\" transform=\"translate(0.5,22.491758888627267) rotate(-90)\" style=\"display: none;\"/><text class=\"node-title\" dy=\".35em\" text-anchor=\"end\" transform=\"translate(-4,22.491758888627267)\" style=\"display: inline;\">2016</text><rect class=\"node-click-target\" x=\"-5\" y=\"-5\" width=\"10\" height=\"49.983517777254534\" style=\"fill: none; visibility: hidden; pointer-events: all;\"/></g><g class=\"node\" transform=\"translate(0,111.48351777725453)\"><title>2017</title><line x1=\"0\" x2=\"0\" y1=\"0\" y2=\"42.63480103602542\" style=\"display: inline;\"/><rect class=\"node-body\" width=\"1\" height=\"42.63480103602542\"/><text class=\"node-value\" dy=\".35em\" text-anchor=\"middle\" transform=\"translate(0.5,21.31740051801271) rotate(-90)\" style=\"display: none;\"/><text class=\"node-title\" dy=\".35em\" text-anchor=\"end\" transform=\"translate(-4,21.31740051801271)\" style=\"display: inline;\">2017</text><rect class=\"node-click-target\" x=\"-5\" y=\"-5\" width=\"10\" height=\"47.63480103602542\" style=\"fill: none; visibility: hidden; pointer-events: all;\"/></g><g class=\"node\" transform=\"translate(0,182.61831881327998)\"><title>2018</title><line x1=\"0\" x2=\"0\" y1=\"0\" y2=\"37.91499882269838\" style=\"display: inline;\"/><rect class=\"node-body\" width=\"1\" height=\"37.91499882269838\"/><text class=\"node-value\" dy=\".35em\" text-anchor=\"middle\" transform=\"translate(0.5,18.95749941134919) rotate(-90)\" style=\"display: none;\"/><text class=\"node-title\" dy=\".35em\" text-anchor=\"end\" transform=\"translate(-4,18.95749941134919)\" style=\"display: inline;\">2018</text><rect class=\"node-click-target\" x=\"-5\" y=\"-5\" width=\"10\" height=\"42.91499882269838\" style=\"fill: none; visibility: hidden; pointer-events: all;\"/></g><g class=\"node\" transform=\"translate(0,249.03331763597836)\"><title>2019</title><line x1=\"0\" x2=\"0\" y1=\"0\" y2=\"36.59524370143632\" style=\"display: inline;\"/><rect class=\"node-body\" width=\"1\" height=\"36.59524370143632\"/><text class=\"node-value\" dy=\".35em\" text-anchor=\"middle\" transform=\"translate(0.5,18.29762185071816) rotate(-90)\" style=\"display: none;\"/><text class=\"node-title\" dy=\".35em\" text-anchor=\"end\" transform=\"translate(-4,18.29762185071816)\" style=\"display: inline;\">2019</text><rect class=\"node-click-target\" x=\"-5\" y=\"-5\" width=\"10\" height=\"41.59524370143632\" style=\"fill: none; visibility: hidden; pointer-events: all;\"/></g><g class=\"node\" transform=\"translate(0,314.1285613374147)\"><title>2020</title><line x1=\"0\" x2=\"0\" y1=\"0\" y2=\"27.871438662585376\" style=\"display: inline;\"/><rect class=\"node-body\" width=\"1\" height=\"27.871438662585376\"/><text class=\"node-value\" dy=\".35em\" text-anchor=\"middle\" transform=\"translate(0.5,13.935719331292688) rotate(-90)\" style=\"display: none;\"/><text class=\"node-title\" dy=\".35em\" text-anchor=\"end\" transform=\"translate(-4,13.935719331292688)\" style=\"display: inline;\">2020</text><rect class=\"node-click-target\" x=\"-5\" y=\"-5\" width=\"10\" height=\"32.871438662585376\" style=\"fill: none; visibility: hidden; pointer-events: all;\"/></g><g class=\"node\" transform=\"translate(399,224.17942076760067)\"><title>Scope B</title><line x1=\"0\" x2=\"0\" y1=\"0\" y2=\"60.820579232399325\" style=\"display: inline;\"/><rect class=\"node-body\" width=\"1\" height=\"60.820579232399325\"/><text class=\"node-value\" dy=\".35em\" text-anchor=\"middle\" transform=\"translate(0.5,30.410289616199663) rotate(-90)\" style=\"display: none;\"/><text class=\"node-title\" dy=\".35em\" text-anchor=\"start\" transform=\"translate(5,30.410289616199663)\" style=\"display: inline;\">Scope B</text><rect class=\"node-click-target\" x=\"-5\" y=\"-5\" width=\"10\" height=\"65.82057923239933\" style=\"fill: none; visibility: hidden; pointer-events: all;\"/></g><g class=\"node\" transform=\"translate(399,342)\"><title>Scope C</title><line x1=\"0\" x2=\"0\" y1=\"0\" y2=\"0\" style=\"display: none;\"/><rect class=\"node-body\" width=\"1\" height=\"0\"/><text class=\"node-value\" dy=\".35em\" text-anchor=\"middle\" transform=\"translate(0.5,0) rotate(0)\" style=\"display: none;\"/><text class=\"node-title\" dy=\".35em\" text-anchor=\"start\" transform=\"translate(5,0)\" style=\"display: none;\">Scope C</text><rect class=\"node-click-target\" x=\"-5\" y=\"-5\" width=\"10\" height=\"5\" style=\"fill: none; visibility: hidden; pointer-events: all;\"/></g><g class=\"node\" transform=\"translate(399,38)\"><title>Scope A</title><line x1=\"0\" x2=\"0\" y1=\"0\" y2=\"129.17942076760067\" style=\"display: inline;\"/><rect class=\"node-body\" width=\"1\" height=\"129.17942076760067\"/><text class=\"node-value\" dy=\".35em\" text-anchor=\"middle\" transform=\"translate(0.5,64.58971038380034) rotate(-90)\" style=\"display: none;\"/><text class=\"node-title\" dy=\".35em\" text-anchor=\"start\" transform=\"translate(5,64.58971038380034)\" style=\"display: inline;\">Scope A</text><rect class=\"node-click-target\" x=\"-5\" y=\"-5\" width=\"10\" height=\"134.17942076760067\" style=\"fill: none; visibility: hidden; pointer-events: all;\"/></g></g><g class=\"slice-titles\"/></g></svg>",
            "_view_module_version": "^0.4.1",
            "order": []
          }
        },
        "f83d5d74775b44da989d37f1d6983fd3": {
          "model_module": "@jupyter-widgets/base",
          "model_name": "LayoutModel",
          "model_module_version": "1.2.0",
          "state": {
            "_view_name": "LayoutView",
            "grid_template_rows": null,
            "right": null,
            "justify_content": null,
            "_view_module": "@jupyter-widgets/base",
            "overflow": null,
            "_model_module_version": "1.2.0",
            "_view_count": null,
            "flex_flow": null,
            "width": null,
            "min_width": null,
            "border": null,
            "align_items": null,
            "bottom": null,
            "_model_module": "@jupyter-widgets/base",
            "top": null,
            "grid_column": null,
            "overflow_y": null,
            "overflow_x": null,
            "grid_auto_flow": null,
            "grid_area": null,
            "grid_template_columns": null,
            "flex": null,
            "_model_name": "LayoutModel",
            "justify_items": null,
            "grid_row": null,
            "max_height": null,
            "align_content": null,
            "visibility": null,
            "align_self": null,
            "height": null,
            "min_height": null,
            "padding": null,
            "grid_auto_rows": null,
            "grid_gap": null,
            "max_width": null,
            "order": null,
            "_view_module_version": "1.2.0",
            "grid_template_areas": null,
            "object_position": null,
            "object_fit": null,
            "grid_auto_columns": null,
            "margin": null,
            "display": null,
            "left": null
          }
        },
        "8ed695ffa5b14bc895650307082b3217": {
          "model_module": "jupyter-sankey-widget",
          "model_name": "SankeyModel",
          "model_module_version": "^0.4.1",
          "state": {
            "_view_name": "SankeyView",
            "links": [
              {
                "opacity": 1,
                "target": "sources^*",
                "title": "*",
                "color": "#FBB4AE",
                "value": 8494,
                "source": "years^*",
                "time": "*",
                "type": "*"
              }
            ],
            "_view_module": "jupyter-sankey-widget",
            "_model_module_version": "^0.4.1",
            "_view_count": null,
            "linkLabelFormat": "",
            "margins": {
              "top": 25,
              "left": 130,
              "right": 130,
              "bottom": 10
            },
            "_model_module": "jupyter-sankey-widget",
            "scale": 0.015599246526960207,
            "layout": "IPY_MODEL_6eee1cc6539f420f924eed3ecf187f58",
            "linkLabelMinWidth": 5,
            "nodes": [
              {
                "direction": "r",
                "hidden": false,
                "type": "process",
                "id": "years^*",
                "title": "years"
              },
              {
                "direction": "r",
                "hidden": false,
                "type": "process",
                "id": "sources^*",
                "title": "sources"
              }
            ],
            "rank_sets": [],
            "_dom_classes": [],
            "_model_name": "SankeyModel",
            "groups": [],
            "png": "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",
            "show_link_info_html": false,
            "align_link_types": false,
            "svg": "<?xml version=\"1.0\" standalone=\"no\"?><!DOCTYPE svg PUBLIC \"-//W3C//DTD SVG 1.1//EN\" \"http://www.w3.org/Graphics/SVG/1.1/DTD/svg11.dtd\"><svg xmlns=\"http://www.w3.org/2000/svg\"><g class=\"sankey\" transform=\"translate(130,25)\"><g class=\"groups\"/><g class=\"links\"><g class=\"link\"><path d=\"M1,66.25 A0 0 0 0 0 1,66.25 L309,66.25 A0 0 0 0 0 309,66.25 L309,198.75 A0 0 0 0 0 309,198.75 L1,198.75 A0 0 0 0 0 1,198.75 Z\" style=\"fill: white;\"/><title/><text class=\"label\" dy=\"0.35em\" x=\"5\" y=\"132.5\"/></g></g><g class=\"nodes\"><g class=\"node\" transform=\"translate(0,66.25)\"><title>years</title><line x1=\"0\" x2=\"0\" y1=\"0\" y2=\"132.5\" style=\"display: inline;\"/><rect class=\"node-body\" width=\"1\" height=\"132.5\"/><text class=\"node-value\" dy=\".35em\" text-anchor=\"middle\" transform=\"translate(0.5,66.25) rotate(-90)\" style=\"display: none;\"/><text class=\"node-title\" dy=\".35em\" text-anchor=\"end\" transform=\"translate(-4,66.25)\" style=\"display: inline;\">years</text><rect class=\"node-click-target\" x=\"-5\" y=\"-5\" width=\"10\" height=\"137.5\" style=\"fill: none; visibility: hidden; pointer-events: all;\"/></g><g class=\"node\" transform=\"translate(309,66.25)\"><title>sources</title><line x1=\"0\" x2=\"0\" y1=\"0\" y2=\"132.5\" style=\"display: inline;\"/><rect class=\"node-body\" width=\"1\" height=\"132.5\"/><text class=\"node-value\" dy=\".35em\" text-anchor=\"middle\" transform=\"translate(0.5,66.25) rotate(-90)\" style=\"display: none;\"/><text class=\"node-title\" dy=\".35em\" text-anchor=\"start\" transform=\"translate(5,66.25)\" style=\"display: inline;\">sources</text><rect class=\"node-click-target\" x=\"-5\" y=\"-5\" width=\"10\" height=\"137.5\" style=\"fill: none; visibility: hidden; pointer-events: all;\"/></g></g><g class=\"slice-titles\"/></g></svg>",
            "_view_module_version": "^0.4.1",
            "order": [
              [
                [
                  "years^*"
                ]
              ],
              [
                [
                  "sources^*"
                ]
              ]
            ]
          }
        },
        "6eee1cc6539f420f924eed3ecf187f58": {
          "model_module": "@jupyter-widgets/base",
          "model_name": "LayoutModel",
          "model_module_version": "1.2.0",
          "state": {
            "_view_name": "LayoutView",
            "grid_template_rows": null,
            "right": null,
            "justify_content": null,
            "_view_module": "@jupyter-widgets/base",
            "overflow": null,
            "_model_module_version": "1.2.0",
            "_view_count": null,
            "flex_flow": null,
            "width": "570",
            "min_width": null,
            "border": null,
            "align_items": null,
            "bottom": null,
            "_model_module": "@jupyter-widgets/base",
            "top": null,
            "grid_column": null,
            "overflow_y": null,
            "overflow_x": null,
            "grid_auto_flow": null,
            "grid_area": null,
            "grid_template_columns": null,
            "flex": null,
            "_model_name": "LayoutModel",
            "justify_items": null,
            "grid_row": null,
            "max_height": null,
            "align_content": null,
            "visibility": null,
            "align_self": null,
            "height": "300",
            "min_height": null,
            "padding": null,
            "grid_auto_rows": null,
            "grid_gap": null,
            "max_width": null,
            "order": null,
            "_view_module_version": "1.2.0",
            "grid_template_areas": null,
            "object_position": null,
            "object_fit": null,
            "grid_auto_columns": null,
            "margin": null,
            "display": null,
            "left": null
          }
        },
        "592b7200fafd4b2ca95b815ec7730fa1": {
          "model_module": "jupyter-sankey-widget",
          "model_name": "SankeyModel",
          "model_module_version": "^0.4.1",
          "state": {
            "_view_name": "SankeyView",
            "links": [
              {
                "opacity": 1,
                "target": "sources^Scope A",
                "title": "*",
                "color": "#FBB4AE",
                "value": 1223,
                "source": "years^2016",
                "time": "*",
                "type": "*"
              },
              {
                "opacity": 1,
                "target": "sources^Scope B",
                "title": "*",
                "color": "#FBB4AE",
                "value": 788,
                "source": "years^2016",
                "time": "*",
                "type": "*"
              },
              {
                "opacity": 1,
                "target": "sources^Scope C",
                "title": "*",
                "color": "#FBB4AE",
                "value": 0,
                "source": "years^2016",
                "time": "*",
                "type": "*"
              },
              {
                "opacity": 1,
                "target": "sources^Scope A",
                "title": "*",
                "color": "#FBB4AE",
                "value": 1232,
                "source": "years^2017",
                "time": "*",
                "type": "*"
              },
              {
                "opacity": 1,
                "target": "sources^Scope B",
                "title": "*",
                "color": "#FBB4AE",
                "value": 674,
                "source": "years^2017",
                "time": "*",
                "type": "*"
              },
              {
                "opacity": 1,
                "target": "sources^Scope C",
                "title": "*",
                "color": "#FBB4AE",
                "value": 0,
                "source": "years^2017",
                "time": "*",
                "type": "*"
              },
              {
                "opacity": 1,
                "target": "sources^Scope A",
                "title": "*",
                "color": "#FBB4AE",
                "value": 1190,
                "source": "years^2018",
                "time": "*",
                "type": "*"
              },
              {
                "opacity": 1,
                "target": "sources^Scope B",
                "title": "*",
                "color": "#FBB4AE",
                "value": 505,
                "source": "years^2018",
                "time": "*",
                "type": "*"
              },
              {
                "opacity": 1,
                "target": "sources^Scope C",
                "title": "*",
                "color": "#FBB4AE",
                "value": 0,
                "source": "years^2018",
                "time": "*",
                "type": "*"
              },
              {
                "opacity": 1,
                "target": "sources^Scope A",
                "title": "*",
                "color": "#FBB4AE",
                "value": 2130,
                "source": "years^other",
                "time": "*",
                "type": "*"
              },
              {
                "opacity": 1,
                "target": "sources^Scope B",
                "title": "*",
                "color": "#FBB4AE",
                "value": 752,
                "source": "years^other",
                "time": "*",
                "type": "*"
              },
              {
                "opacity": 1,
                "target": "sources^Scope C",
                "title": "*",
                "color": "#FBB4AE",
                "value": 0,
                "source": "years^other",
                "time": "*",
                "type": "*"
              }
            ],
            "_view_module": "jupyter-sankey-widget",
            "_model_module_version": "^0.4.1",
            "_view_count": null,
            "linkLabelFormat": "",
            "margins": {
              "top": 25,
              "left": 130,
              "right": 130,
              "bottom": 10
            },
            "_model_module": "jupyter-sankey-widget",
            "scale": 0.015599246526960207,
            "layout": "IPY_MODEL_411b9fb8d3ef46aa848b0ab90af1bde4",
            "linkLabelMinWidth": 5,
            "nodes": [
              {
                "direction": "r",
                "hidden": false,
                "type": "process",
                "id": "years^2016",
                "title": "2016"
              },
              {
                "direction": "r",
                "hidden": false,
                "type": "process",
                "id": "years^2017",
                "title": "2017"
              },
              {
                "direction": "r",
                "hidden": false,
                "type": "process",
                "id": "years^2018",
                "title": "2018"
              },
              {
                "direction": "r",
                "hidden": false,
                "type": "process",
                "id": "years^other",
                "title": "other"
              },
              {
                "direction": "r",
                "hidden": false,
                "type": "process",
                "id": "sources^Scope A",
                "title": "Scope A"
              },
              {
                "direction": "r",
                "hidden": false,
                "type": "process",
                "id": "sources^Scope B",
                "title": "Scope B"
              },
              {
                "direction": "r",
                "hidden": false,
                "type": "process",
                "id": "sources^Scope C",
                "title": "Scope C"
              }
            ],
            "rank_sets": [],
            "_dom_classes": [],
            "_model_name": "SankeyModel",
            "groups": [
              {
                "nodes": [
                  "years^2016",
                  "years^2017",
                  "years^2018",
                  "years^other"
                ],
                "type": "process",
                "id": "years",
                "title": ""
              },
              {
                "nodes": [
                  "sources^Scope A",
                  "sources^Scope B",
                  "sources^Scope C"
                ],
                "type": "process",
                "id": "sources",
                "title": ""
              }
            ],
            "png": "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",
            "show_link_info_html": false,
            "align_link_types": false,
            "svg": "<?xml version=\"1.0\" standalone=\"no\"?><!DOCTYPE svg PUBLIC \"-//W3C//DTD SVG 1.1//EN\" \"http://www.w3.org/Graphics/SVG/1.1/DTD/svg11.dtd\"><svg xmlns=\"http://www.w3.org/2000/svg\"><g class=\"sankey\" transform=\"translate(130,25)\"><g class=\"groups\"><g class=\"group\" transform=\"translate(0,26.5)\" style=\"display: none;\"><rect x=\"-10\" y=\"-20\" width=\"21\" height=\"242\"/><text x=\"-10\" y=\"-25\"/></g><g class=\"group\" transform=\"translate(309,26.5)\" style=\"display: none;\"><rect x=\"-10\" y=\"-20\" width=\"21\" height=\"242\"/><text x=\"-10\" y=\"-25\"/></g></g><g class=\"links\"><g class=\"link\"><path d=\"M1,57.870084765716975 A105.87213594618363 105.87213594618363 0.6525530249980193 0 1 65.28734521853737,79.62298144667787 L244.71265478146262,216.7471033190391 A105.87213594618363 105.87213594618363 0.6525530249980193 0 0 309,238.5 L309,238.5 A105.87213594618363 105.87213594618363 0.6525530249980193 0 1 244.71265478146262,216.7471033190391 L65.28734521853737,79.62298144667787 A105.87213594618363 105.87213594618363 0.6525530249980193 0 0 1,57.870084765716975 Z\" style=\"fill: white;\"/><title/><text class=\"label\" dy=\"0.35em\" x=\"5\" y=\"57.870084765716975\"/></g><g class=\"link\"><path d=\"M1,114.10224864610312 A133.0475824615251 133.0475824615251 0.47129968575758063 0 1 61.40954449624196,128.6072390463236 L248.59045550375805,223.99500959977954 A133.0475824615251 133.0475824615251 0.47129968575758063 0 0 309,238.5 L309,238.5 A133.0475824615251 133.0475824615251 0.47129968575758063 0 1 248.59045550375805,223.99500959977954 L61.40954449624196,128.6072390463236 A133.0475824615251 133.0475824615251 0.47129968575758063 0 0 1,114.10224864610312 Z\" style=\"fill: white;\"/><title/><text class=\"label\" dy=\"0.35em\" x=\"5\" y=\"114.10224864610312\"/></g><g class=\"link\"><path d=\"M1,167.04297150930068 A209.85361908884687 209.85361908884687 0.2795093766098975 0 1 58.89527663362665,175.18719967099545 L251.10472336637335,230.35577183830523 A209.85361908884687 209.85361908884687 0.2795093766098975 0 0 309,238.5 L309,238.5 A209.85361908884687 209.85361908884687 0.2795093766098975 0 1 251.10472336637335,230.35577183830523 L58.89527663362665,175.18719967099545 A209.85361908884687 209.85361908884687 0.2795093766098975 0 0 1,167.04297150930068 Z\" style=\"fill: white;\"/><title/><text class=\"label\" dy=\"0.35em\" x=\"5\" y=\"167.04297150930068\"/></g><g class=\"link\"><path d=\"M1,238.5 A0 0 0 0 0 1,238.5 L309,238.5 A0 0 0 0 0 309,238.5 L309,238.5 A0 0 0 0 0 309,238.5 L1,238.5 A0 0 0 0 0 1,238.5 Z\" style=\"fill: white;\"/><title/><text class=\"label\" dy=\"0.35em\" x=\"5\" y=\"238.5\"/></g><g class=\"link\"><path d=\"M1,159.16535201318578 A719.2559818868089 719.2559818868089 0.0793548857089379 0 1 58.016591452275044,161.428812475174 L252.60788025701572,176.90307710474605 A711.378362390694 711.378362390694 0.0793548857089379 0 0 309,179.14174711561103 L309,187.01936661172593 A719.2559818868089 719.2559818868089 0.0793548857089379 0 1 251.98340854772493,184.7559061497377 L57.392119742984285,169.28164152016566 A711.378362390694 711.378362390694 0.0793548857089379 0 0 1,167.04297150930068 Z\" style=\"fill: white;\"/><title/><text class=\"label\" dy=\"0.35em\" x=\"5\" y=\"163.10416176124323\"/></g><g class=\"link\"><path d=\"M1,103.58835648693194 A233.79684573984244 233.79684573984244 0.2551265757834056 0 1 60.0028164967786,111.15604247200902 L252.65055227631765,161.4004893640087 A223.28295358067126 223.28295358067126 0.2551265757834056 0 0 309,168.62785495643985 L309,179.14174711561103 A233.79684573984244 233.79684573984244 0.2551265757834056 0 1 249.9971835032214,171.57406113053395 L57.34944772368237,121.32961423853423 A223.28295358067126 223.28295358067126 0.2551265757834056 0 0 1,114.10224864610312 Z\" style=\"fill: white;\"/><title/><text class=\"label\" dy=\"0.35em\" x=\"5\" y=\"108.84530256651753\"/></g><g class=\"link\"><path d=\"M1,226.76936661172593 A358.07454179642895 358.07454179642895 0.1572842447112306 0 0 57.087562546424245,222.34940602459434 L251.07499145539572,191.58412648276678 A369.80517518470305 369.80517518470305 0.1572842447112306 0 1 309,187.01936661172593 L309,198.75000000000003 A358.07454179642895 358.07454179642895 0.1572842447112306 0 0 252.91243745357576,203.1699605871316 L58.925008544604275,233.93524012895918 A369.80517518470305 369.80517518470305 0.1572842447112306 0 1 1,238.50000000000003 Z\" style=\"fill: white;\"/><title/><text class=\"label\" dy=\"0.35em\" x=\"5\" y=\"232.63468330586298\"/></g><g class=\"link\"><path d=\"M1,45.57787850247233 A151.23472780302396 151.23472780302396 0.42366718408644566 0 1 63.173529560638926,58.948923213729486 L251.8798722642958,144.05138902088694 A138.94252153977934 138.94252153977934 0.42366718408644566 0 0 309,156.3356486931952 L309,168.62785495643982 A151.23472780302396 151.23472780302396 0.42366718408644566 0 1 246.8264704393611,155.25681024518266 L58.12012773570417,70.1543444380252 A138.94252153977934 138.94252153977934 0.42366718408644566 0 0 1,57.87008476571697 Z\" style=\"fill: white;\"/><title/><text class=\"label\" dy=\"0.35em\" x=\"5\" y=\"51.72398163409465\"/></g><g class=\"link\"><path d=\"M1,140.60224864610313 A189.79985466465527 189.79985466465527 0.29591310712696073 0 0 56.34817935404263,132.35283841196144 L248.23857111347365,73.85238222892261 A208.36295803173792 208.36295803173792 0.29591310712696073 0 1 309,64.7961502236873 L309,83.35925359076995 A189.79985466465527 189.79985466465527 0.29591310712696073 0 0 253.6518206459574,91.60866382491167 L61.761428886526346,150.10912000795048 A208.36295803173792 208.36295803173792 0.29591310712696073 0 1 1,159.16535201318578 Z\" style=\"fill: white;\"/><title/><text class=\"label\" dy=\"0.35em\" x=\"5\" y=\"149.88380032964446\"/></g><g class=\"link\"><path d=\"M1,26.5 A0 0 0 0 0 1,26.5 L309,26.5 A0 0 0 0 0 309,26.5 L309,45.57787850247233 A0 0 0 0 0 309,45.57787850247233 L1,45.57787850247233 A0 0 0 0 0 1,45.57787850247233 Z\" style=\"fill: white;\"/><title/><text class=\"label\" dy=\"0.35em\" x=\"5\" y=\"36.038939251236165\"/></g><g class=\"link\"><path d=\"M1,84.37008476571697 A363.0256452580895 363.0256452580895 0.15353269013580872 0 0 56.517589818758765,80.09981066709638 L250.54335576351457,50.07421731311351 A382.24391697930446 382.24391697930446 0.15353269013580872 0 1 309,45.57787850247233 L309,64.7961502236873 A363.0256452580895 363.0256452580895 0.15353269013580872 0 0 253.48241018124122,69.0664243223079 L59.45664423648543,99.09201767629078 A382.24391697930446 382.24391697930446 0.15353269013580872 0 1 1,103.58835648693196 Z\" style=\"fill: white;\"/><title/><text class=\"label\" dy=\"0.35em\" x=\"5\" y=\"93.97922062632446\"/></g><g class=\"link\"><path d=\"M1,193.54297150930068 A129.0586681052025 129.0586681052025 0.42163335738238983 0 0 53.81742886434627,182.24023328131727 L242.5846254454776,97.57190288180676 A162.28506320762773 162.28506320762773 0.42163335738238983 0 1 309,83.35925359076995 L309,116.5856486931952 A129.0586681052025 129.0586681052025 0.42163335738238983 0 0 256.18257113565375,127.88838692117862 L67.41537455452239,212.55671732068913 A162.28506320762773 162.28506320762773 0.42163335738238983 0 1 1,226.76936661172596 Z\" style=\"fill: white;\"/><title/><text class=\"label\" dy=\"0.35em\" x=\"5\" y=\"210.15616906051332\"/></g></g><g class=\"nodes\"><g class=\"node\" transform=\"translate(0,26.5)\"><title>2016</title><line x1=\"0\" x2=\"0\" y1=\"0\" y2=\"31.370084765716975\" style=\"display: inline;\"/><rect class=\"node-body\" width=\"1\" height=\"31.370084765716975\"/><text class=\"node-value\" dy=\".35em\" text-anchor=\"middle\" transform=\"translate(0.5,15.685042382858487) rotate(-90)\" style=\"display: none;\"/><text class=\"node-title\" dy=\".35em\" text-anchor=\"end\" transform=\"translate(-4,15.685042382858487)\" style=\"display: inline;\">2016</text><rect class=\"node-click-target\" x=\"-5\" y=\"-5\" width=\"10\" height=\"36.370084765716975\" style=\"fill: none; visibility: hidden; pointer-events: all;\"/></g><g class=\"node\" transform=\"translate(0,84.37008476571697)\"><title>2017</title><line x1=\"0\" x2=\"0\" y1=\"0\" y2=\"29.732163880386153\" style=\"display: inline;\"/><rect class=\"node-body\" width=\"1\" height=\"29.732163880386153\"/><text class=\"node-value\" dy=\".35em\" text-anchor=\"middle\" transform=\"translate(0.5,14.866081940193077) rotate(-90)\" style=\"display: none;\"/><text class=\"node-title\" dy=\".35em\" text-anchor=\"end\" transform=\"translate(-4,14.866081940193077)\" style=\"display: inline;\">2017</text><rect class=\"node-click-target\" x=\"-5\" y=\"-5\" width=\"10\" height=\"34.73216388038615\" style=\"fill: none; visibility: hidden; pointer-events: all;\"/></g><g class=\"node\" transform=\"translate(0,140.60224864610313)\"><title>2018</title><line x1=\"0\" x2=\"0\" y1=\"0\" y2=\"26.44072286319755\" style=\"display: inline;\"/><rect class=\"node-body\" width=\"1\" height=\"26.44072286319755\"/><text class=\"node-value\" dy=\".35em\" text-anchor=\"middle\" transform=\"translate(0.5,13.220361431598775) rotate(-90)\" style=\"display: none;\"/><text class=\"node-title\" dy=\".35em\" text-anchor=\"end\" transform=\"translate(-4,13.220361431598775)\" style=\"display: inline;\">2018</text><rect class=\"node-click-target\" x=\"-5\" y=\"-5\" width=\"10\" height=\"31.44072286319755\" style=\"fill: none; visibility: hidden; pointer-events: all;\"/></g><g class=\"node\" transform=\"translate(0,193.54297150930068)\"><title>other</title><line x1=\"0\" x2=\"0\" y1=\"0\" y2=\"44.957028490699315\" style=\"display: inline;\"/><rect class=\"node-body\" width=\"1\" height=\"44.957028490699315\"/><text class=\"node-value\" dy=\".35em\" text-anchor=\"middle\" transform=\"translate(0.5,22.478514245349658) rotate(-90)\" style=\"display: none;\"/><text class=\"node-title\" dy=\".35em\" text-anchor=\"end\" transform=\"translate(-4,22.478514245349658)\" style=\"display: inline;\">other</text><rect class=\"node-click-target\" x=\"-5\" y=\"-5\" width=\"10\" height=\"49.957028490699315\" style=\"fill: none; visibility: hidden; pointer-events: all;\"/></g><g class=\"node\" transform=\"translate(309,26.5)\"><title>Scope A</title><line x1=\"0\" x2=\"0\" y1=\"0\" y2=\"90.0856486931952\" style=\"display: inline;\"/><rect class=\"node-body\" width=\"1\" height=\"90.0856486931952\"/><text class=\"node-value\" dy=\".35em\" text-anchor=\"middle\" transform=\"translate(0.5,45.0428243465976) rotate(-90)\" style=\"display: none;\"/><text class=\"node-title\" dy=\".35em\" text-anchor=\"start\" transform=\"translate(5,45.0428243465976)\" style=\"display: inline;\">Scope A</text><rect class=\"node-click-target\" x=\"-5\" y=\"-5\" width=\"10\" height=\"95.0856486931952\" style=\"fill: none; visibility: hidden; pointer-events: all;\"/></g><g class=\"node\" transform=\"translate(309,156.3356486931952)\"><title>Scope B</title><line x1=\"0\" x2=\"0\" y1=\"0\" y2=\"42.414351306804804\" style=\"display: inline;\"/><rect class=\"node-body\" width=\"1\" height=\"42.414351306804804\"/><text class=\"node-value\" dy=\".35em\" text-anchor=\"middle\" transform=\"translate(0.5,21.207175653402402) rotate(-90)\" style=\"display: none;\"/><text class=\"node-title\" dy=\".35em\" text-anchor=\"start\" transform=\"translate(5,21.207175653402402)\" style=\"display: inline;\">Scope B</text><rect class=\"node-click-target\" x=\"-5\" y=\"-5\" width=\"10\" height=\"47.414351306804804\" style=\"fill: none; visibility: hidden; pointer-events: all;\"/></g><g class=\"node\" transform=\"translate(309,238.5)\"><title>Scope C</title><line x1=\"0\" x2=\"0\" y1=\"0\" y2=\"0\" style=\"display: none;\"/><rect class=\"node-body\" width=\"1\" height=\"0\"/><text class=\"node-value\" dy=\".35em\" text-anchor=\"middle\" transform=\"translate(0.5,0) rotate(0)\" style=\"display: none;\"/><text class=\"node-title\" dy=\".35em\" text-anchor=\"start\" transform=\"translate(5,0)\" style=\"display: none;\">Scope C</text><rect class=\"node-click-target\" x=\"-5\" y=\"-5\" width=\"10\" height=\"5\" style=\"fill: none; visibility: hidden; pointer-events: all;\"/></g></g><g class=\"slice-titles\"/></g></svg>",
            "_view_module_version": "^0.4.1",
            "order": [
              [
                [
                  "years^2016",
                  "years^2017",
                  "years^2018",
                  "years^other"
                ]
              ],
              [
                [
                  "sources^Scope A",
                  "sources^Scope B",
                  "sources^Scope C"
                ]
              ]
            ]
          }
        },
        "411b9fb8d3ef46aa848b0ab90af1bde4": {
          "model_module": "@jupyter-widgets/base",
          "model_name": "LayoutModel",
          "model_module_version": "1.2.0",
          "state": {
            "_view_name": "LayoutView",
            "grid_template_rows": null,
            "right": null,
            "justify_content": null,
            "_view_module": "@jupyter-widgets/base",
            "overflow": null,
            "_model_module_version": "1.2.0",
            "_view_count": null,
            "flex_flow": null,
            "width": "570",
            "min_width": null,
            "border": null,
            "align_items": null,
            "bottom": null,
            "_model_module": "@jupyter-widgets/base",
            "top": null,
            "grid_column": null,
            "overflow_y": null,
            "overflow_x": null,
            "grid_auto_flow": null,
            "grid_area": null,
            "grid_template_columns": null,
            "flex": null,
            "_model_name": "LayoutModel",
            "justify_items": null,
            "grid_row": null,
            "max_height": null,
            "align_content": null,
            "visibility": null,
            "align_self": null,
            "height": "300",
            "min_height": null,
            "padding": null,
            "grid_auto_rows": null,
            "grid_gap": null,
            "max_width": null,
            "order": null,
            "_view_module_version": "1.2.0",
            "grid_template_areas": null,
            "object_position": null,
            "object_fit": null,
            "grid_auto_columns": null,
            "margin": null,
            "display": null,
            "left": null
          }
        },
        "5704441b0f3d4033972ffd89b402c3cb": {
          "model_module": "jupyter-sankey-widget",
          "model_name": "SankeyModel",
          "model_module_version": "^0.4.1",
          "state": {
            "_view_name": "SankeyView",
            "links": [
              {
                "opacity": 1,
                "target": "sources^Scope A",
                "title": "Gas",
                "color": "yellowgreen",
                "value": 1220,
                "source": "years^2016",
                "time": "*",
                "type": "Gas"
              },
              {
                "opacity": 1,
                "target": "sources^Scope A",
                "title": "other",
                "color": "red",
                "value": 3,
                "source": "years^2016",
                "time": "*",
                "type": "other"
              },
              {
                "opacity": 1,
                "target": "sources^Scope B",
                "title": "Electricity",
                "color": "gold",
                "value": 788,
                "source": "years^2016",
                "time": "*",
                "type": "Electricity"
              },
              {
                "opacity": 1,
                "target": "sources^Scope B",
                "title": "other1",
                "color": "cyan",
                "value": 0,
                "source": "years^2016",
                "time": "*",
                "type": "other1"
              },
              {
                "opacity": 1,
                "target": "sources^Scope C",
                "title": "_",
                "color": "yellowgreen",
                "value": 0,
                "source": "years^2016",
                "time": "*",
                "type": "_"
              },
              {
                "opacity": 1,
                "target": "sources^Scope A",
                "title": "Gas",
                "color": "yellowgreen",
                "value": 1230,
                "source": "years^2017",
                "time": "*",
                "type": "Gas"
              },
              {
                "opacity": 1,
                "target": "sources^Scope A",
                "title": "other",
                "color": "red",
                "value": 2,
                "source": "years^2017",
                "time": "*",
                "type": "other"
              },
              {
                "opacity": 1,
                "target": "sources^Scope B",
                "title": "Electricity",
                "color": "gold",
                "value": 674,
                "source": "years^2017",
                "time": "*",
                "type": "Electricity"
              },
              {
                "opacity": 1,
                "target": "sources^Scope B",
                "title": "other1",
                "color": "cyan",
                "value": 0,
                "source": "years^2017",
                "time": "*",
                "type": "other1"
              },
              {
                "opacity": 1,
                "target": "sources^Scope C",
                "title": "_",
                "color": "yellowgreen",
                "value": 0,
                "source": "years^2017",
                "time": "*",
                "type": "_"
              },
              {
                "opacity": 1,
                "target": "sources^Scope A",
                "title": "Gas",
                "color": "yellowgreen",
                "value": 1163,
                "source": "years^2018",
                "time": "*",
                "type": "Gas"
              },
              {
                "opacity": 1,
                "target": "sources^Scope A",
                "title": "other",
                "color": "red",
                "value": 27,
                "source": "years^2018",
                "time": "*",
                "type": "other"
              },
              {
                "opacity": 1,
                "target": "sources^Scope B",
                "title": "Electricity",
                "color": "gold",
                "value": 505,
                "source": "years^2018",
                "time": "*",
                "type": "Electricity"
              },
              {
                "opacity": 1,
                "target": "sources^Scope B",
                "title": "other1",
                "color": "cyan",
                "value": 0,
                "source": "years^2018",
                "time": "*",
                "type": "other1"
              },
              {
                "opacity": 1,
                "target": "sources^Scope C",
                "title": "_",
                "color": "yellowgreen",
                "value": 0,
                "source": "years^2018",
                "time": "*",
                "type": "_"
              },
              {
                "opacity": 1,
                "target": "sources^Scope A",
                "title": "Gas",
                "color": "yellowgreen",
                "value": 2120,
                "source": "years^other",
                "time": "*",
                "type": "Gas"
              },
              {
                "opacity": 1,
                "target": "sources^Scope A",
                "title": "other",
                "color": "red",
                "value": 10,
                "source": "years^other",
                "time": "*",
                "type": "other"
              },
              {
                "opacity": 1,
                "target": "sources^Scope B",
                "title": "Electricity",
                "color": "gold",
                "value": 752,
                "source": "years^other",
                "time": "*",
                "type": "Electricity"
              },
              {
                "opacity": 1,
                "target": "sources^Scope B",
                "title": "other1",
                "color": "cyan",
                "value": 0,
                "source": "years^other",
                "time": "*",
                "type": "other1"
              },
              {
                "opacity": 1,
                "target": "sources^Scope C",
                "title": "_",
                "color": "yellowgreen",
                "value": 0,
                "source": "years^other",
                "time": "*",
                "type": "_"
              }
            ],
            "_view_module": "jupyter-sankey-widget",
            "_model_module_version": "^0.4.1",
            "_view_count": null,
            "linkLabelFormat": "",
            "margins": {
              "top": 25,
              "left": 130,
              "right": 130,
              "bottom": 10
            },
            "_model_module": "jupyter-sankey-widget",
            "scale": 0.015599246526960207,
            "layout": "IPY_MODEL_d550223bfd8d474893e7ec16330d309e",
            "linkLabelMinWidth": 5,
            "nodes": [
              {
                "direction": "r",
                "hidden": false,
                "type": "process",
                "id": "years^2016",
                "title": "2016"
              },
              {
                "direction": "r",
                "hidden": false,
                "type": "process",
                "id": "years^2017",
                "title": "2017"
              },
              {
                "direction": "r",
                "hidden": false,
                "type": "process",
                "id": "years^2018",
                "title": "2018"
              },
              {
                "direction": "r",
                "hidden": false,
                "type": "process",
                "id": "years^other",
                "title": "other"
              },
              {
                "direction": "r",
                "hidden": false,
                "type": "process",
                "id": "sources^Scope A",
                "title": "Scope A"
              },
              {
                "direction": "r",
                "hidden": false,
                "type": "process",
                "id": "sources^Scope B",
                "title": "Scope B"
              },
              {
                "direction": "r",
                "hidden": false,
                "type": "process",
                "id": "sources^Scope C",
                "title": "Scope C"
              }
            ],
            "rank_sets": [],
            "_dom_classes": [],
            "_model_name": "SankeyModel",
            "groups": [
              {
                "nodes": [
                  "years^2016",
                  "years^2017",
                  "years^2018",
                  "years^other"
                ],
                "type": "process",
                "id": "years",
                "title": ""
              },
              {
                "nodes": [
                  "sources^Scope A",
                  "sources^Scope B",
                  "sources^Scope C"
                ],
                "type": "process",
                "id": "sources",
                "title": ""
              }
            ],
            "png": "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",
            "show_link_info_html": false,
            "align_link_types": false,
            "svg": "<?xml version=\"1.0\" standalone=\"no\"?><!DOCTYPE svg PUBLIC \"-//W3C//DTD SVG 1.1//EN\" \"http://www.w3.org/Graphics/SVG/1.1/DTD/svg11.dtd\"><svg xmlns=\"http://www.w3.org/2000/svg\" width=\"54.23772841706924\" height=\"28.54617285108907\" viewBox=\"0 0 570 300\" style=\"font-family: &quot;Helvetica Neue&quot;, Helvetica, Arial, sans-serif;\"><g class=\"sankey\" transform=\"translate(130,25)\"><g class=\"groups\"><g class=\"group\" transform=\"translate(0,26.5)\" style=\"display: none;\"><rect x=\"-10\" y=\"-20\" width=\"21\" height=\"242\" style=\"fill: rgb(23, 23, 23); stroke: rgb(187, 187, 187); stroke-width: 0.952423;\"/><text x=\"-10\" y=\"-25\" style=\"fill: rgb(15, 15, 15);\"/></g><g class=\"group\" transform=\"translate(309,26.5)\" style=\"display: none;\"><rect x=\"-10\" y=\"-20\" width=\"21\" height=\"242\" style=\"fill: rgb(23, 23, 23); stroke: rgb(187, 187, 187); stroke-width: 0.952423;\"/><text x=\"-10\" y=\"-25\" style=\"fill: rgb(15, 15, 15);\"/></g></g><g class=\"links\"><g class=\"link\" style=\"opacity: 0.980969;\"><path d=\"M1,57.870084765716975 A145.08862467140162 145.08862467140162 0.4263297272213369 0 1 60.998767354273895,70.8570178317248 L246.45962324826476,155.09078206956093 A151.234727803024 151.234727803024 0.4263297272213369 0 0 309.00000000000006,168.62785495643988 L309.00000000000006,168.62785495643988 A151.234727803024 151.234727803024 0.4263297272213369 0 1 246.45962324826476,155.09078206956093 L60.998767354273895,70.8570178317248 A145.08862467140162 145.08862467140162 0.4263297272213369 0 0 1,57.870084765716975 Z\" style=\"fill: rgb(231, 255, 255);\"/><title>2016 → Scope B\nother1\n0.00</title><text class=\"label\" dy=\"0.35em\" x=\"5\" y=\"57.870084765716975\"/></g><g class=\"link\" style=\"opacity: 0.980969;\"><path d=\"M1,57.870084765716975 A105.87213594618363 105.87213594618363 0.6525530249980193 0 1 65.28734521853737,79.62298144667787 L244.71265478146267,216.74710331903913 A105.87213594618363 105.87213594618363 0.6525530249980193 0 0 309.00000000000006,238.50000000000003 L309.00000000000006,238.50000000000003 A105.87213594618363 105.87213594618363 0.6525530249980193 0 1 244.71265478146267,216.74710331903913 L65.28734521853737,79.62298144667787 A105.87213594618363 105.87213594618363 0.6525530249980193 0 0 1,57.870084765716975 Z\" style=\"fill: rgb(245, 250, 235);\"/><title>2016 → Scope C\n_\n0.00</title><text class=\"label\" dy=\"0.35em\" x=\"5\" y=\"57.870084765716975\"/></g><g class=\"link\" style=\"opacity: 0.980969;\"><path d=\"M1,114.10224864610312 A228.53989966025685 228.53989966025685 0.25598785709876903 0 1 58.86657648909823,121.5495318259546 L249.8023584633297,171.52315920440154 A233.79684573984244 233.79684573984244 0.25598785709876903 0 0 309.00000000000006,179.14174711561103 L309.00000000000006,179.14174711561103 A233.79684573984244 233.79684573984244 0.25598785709876903 0 1 249.8023584633297,171.52315920440154 L58.86657648909823,121.5495318259546 A228.53989966025685 228.53989966025685 0.25598785709876903 0 0 1,114.10224864610312 Z\" style=\"fill: rgb(231, 255, 255);\"/><title>2017 → Scope B\nother1\n0.00</title><text class=\"label\" dy=\"0.35em\" x=\"5\" y=\"114.10224864610312\"/></g><g class=\"link\" style=\"opacity: 0.980969;\"><path d=\"M1,114.10224864610312 A133.0475824615251 133.0475824615251 0.47129968575758086 0 1 61.40954449624199,128.6072390463236 L248.59045550375805,223.99500959977954 A133.0475824615251 133.0475824615251 0.47129968575758086 0 0 309.00000000000006,238.50000000000003 L309.00000000000006,238.50000000000003 A133.0475824615251 133.0475824615251 0.47129968575758086 0 1 248.59045550375805,223.99500959977954 L61.40954449624199,128.6072390463236 A133.0475824615251 133.0475824615251 0.47129968575758086 0 0 1,114.10224864610312 Z\" style=\"fill: rgb(245, 250, 235);\"/><title>2017 → Scope C\n_\n0.00</title><text class=\"label\" dy=\"0.35em\" x=\"5\" y=\"114.10224864610312\"/></g><g class=\"link\" style=\"opacity: 0.980969;\"><path d=\"M1,167.04297150930068 A715.3171721387514 715.3171721387514 0.07941850064506073 0 1 57.74971713770372,169.2976454325235 L251.9377972296739,184.75227759213274 A719.2559818868089 719.2559818868089 0.07941850064506073 0 0 309.00000000000006,187.01936661172593 L309.00000000000006,187.01936661172593 A719.2559818868089 719.2559818868089 0.07941850064506073 0 1 251.9377972296739,184.75227759213274 L57.74971713770372,169.2976454325235 A715.3171721387514 715.3171721387514 0.07941850064506073 0 0 1,167.04297150930068 Z\" style=\"fill: rgb(231, 255, 255);\"/><title>2018 → Scope B\nother1\n0.00</title><text class=\"label\" dy=\"0.35em\" x=\"5\" y=\"167.04297150930068\"/></g><g class=\"link\" style=\"opacity: 0.980969;\"><path d=\"M1,167.04297150930068 A209.85361908884687 209.85361908884687 0.2795093766098975 0 1 58.89527663362665,175.18719967099545 L251.1047233663734,230.35577183830526 A209.85361908884687 209.85361908884687 0.2795093766098975 0 0 309.00000000000006,238.50000000000003 L309.00000000000006,238.50000000000003 A209.85361908884687 209.85361908884687 0.2795093766098975 0 1 251.1047233663734,230.35577183830526 L58.89527663362665,175.18719967099545 A209.85361908884687 209.85361908884687 0.2795093766098975 0 0 1,167.04297150930068 Z\" style=\"fill: rgb(245, 250, 235);\"/><title>2018 → Scope C\n_\n0.00</title><text class=\"label\" dy=\"0.35em\" x=\"5\" y=\"167.04297150930068\"/></g><g class=\"link\" style=\"opacity: 0.980969;\"><path d=\"M1,238.50000000000003 A369.80517518470305 369.80517518470305 0.15765484606375502 0 0 59.06036315555201,233.9137479609006 L251.86050664329235,203.2635115193514 A363.939858490566 363.939858490566 0.15765484606375502 0 1 309.00000000000006,198.75 L309.00000000000006,198.75 A363.939858490566 363.939858490566 0.15765484606375502 0 0 251.86050664329235,203.2635115193514 L59.06036315555201,233.9137479609006 A369.80517518470305 369.80517518470305 0.15765484606375502 0 1 1,238.50000000000003 Z\" style=\"fill: rgb(231, 255, 255);\"/><title>other → Scope B\nother1\n0.00</title><text class=\"label\" dy=\"0.35em\" x=\"5\" y=\"238.5\"/></g><g class=\"link\" style=\"opacity: 0.980969;\"><path d=\"M1,238.50000000000003 A0 0 0 0 0 1,238.50000000000003 L309.00000000000006,238.50000000000003 A0 0 0 0 0 309.00000000000006,238.50000000000003 L309.00000000000006,238.50000000000003 A0 0 0 0 0 309.00000000000006,238.50000000000003 L1,238.50000000000003 A0 0 0 0 0 1,238.50000000000003 Z\" style=\"fill: rgb(245, 250, 235);\"/><title>other → Scope C\n_\n0.00</title><text class=\"label\" dy=\"0.35em\" x=\"5\" y=\"238.5\"/></g><g class=\"link\" style=\"opacity: 0.980969;\"><path d=\"M1,102.57275724040498 A381.24391697930446 381.24391697930446 0.1541133957412617 0 0 59.52249044040176,98.0542606223709 L251.64554283391357,68.20886424243504 A373.63478111869705 373.63478111869705 0.1541133957412617 0 1 309.00000000000006,63.780550977160345 L309.00000000000006,65.78055097716035 A371.63478111869705 371.63478111869705 0.1541133957412617 0 0 251.95255096091051,70.18516027541132 L59.82949856739872,100.03055665534718 A383.24391697930446 383.24391697930446 0.1541133957412617 0 1 1,104.57275724040498 Z\" style=\"fill: rgb(255, 231, 231);\"/><title>2017 → Scope A\nother\n2.00</title><text class=\"label\" dy=\"0.35em\" x=\"5\" y=\"103.57275724040498\"/></g><g class=\"link\" style=\"opacity: 0.980969;\"><path d=\"M1,44.55447963268189 A0 0 0 0 0 1,44.55447963268189 L309.00000000000006,44.55447963268189 A0 0 0 0 0 309.00000000000006,44.55447963268189 L309.00000000000006,46.55447963268189 A0 0 0 0 0 309.00000000000006,46.55447963268189 L1,46.55447963268189 A0 0 0 0 0 1,46.55447963268189 Z\" style=\"fill: rgb(255, 231, 231);\"/><title>2016 → Scope A\nother\n3.00</title><text class=\"label\" dy=\"0.35em\" x=\"5\" y=\"45.55447963268189\"/></g><g class=\"link\" style=\"opacity: 0.980969;\"><path d=\"M1,225.69137037909113 A161.28506320762773 161.28506320762773 0.42894599652343857 0 0 68.08047675296352,211.0796900753959 L247.99733503645598,128.7954446955993 A146.6718656564151 146.6718656564151 0.42894599652343857 0 1 309.00000000000006,115.50765246056038 L309.00000000000006,117.50765246056038 A144.6718656564151 144.6718656564151 0.42894599652343857 0 0 248.82916007243728,130.61425395154524 L68.91230178894479,212.89849933134184 A163.28506320762773 163.28506320762773 0.42894599652343857 0 1 1,227.69137037909113 Z\" style=\"fill: rgb(255, 231, 231);\"/><title>other → Scope A\nother\n10.0</title><text class=\"label\" dy=\"0.35em\" x=\"5\" y=\"226.69137037909113\"/></g><g class=\"link\" style=\"opacity: 0.980969;\"><path d=\"M1,157.95476218507181 A207.36295803173792 207.36295803173792 0.2979558269208591 0 0 61.874862910558946,148.8180572816543 L250.26275831513698,90.96453321116397 A200.0814063481966 200.0814063481966 0.2979558269208591 0 1 309.00000000000006,82.14866376265599 L309.00000000000006,84.14866376265599 A198.0814063481966 198.0814063481966 0.2979558269208591 0 0 250.84989175004142,92.87641038546604 L62.461996345463376,150.7299344559564 A209.36295803173792 209.36295803173792 0.2979558269208591 0 1 1,159.95476218507181 Z\" style=\"fill: rgb(255, 231, 231);\"/><title>2018 → Scope A\nother\n27.0</title><text class=\"label\" dy=\"0.35em\" x=\"5\" y=\"158.95476218507181\"/></g><g class=\"link\" style=\"opacity: 0.980969;\"><path d=\"M1,159.16535201318578 A723.1947916348663 723.1947916348663 0.07941850064506073 0 1 58.37468840294864,161.44485612914934 L252.5627684949188,176.8994882887586 A711.378362390694 711.378362390694 0.07941850064506073 0 0 309.00000000000006,179.14174711561103 L309.00000000000006,187.01936661172593 A719.2559818868089 719.2559818868089 0.07941850064506073 0 1 251.93779722967386,184.75227759213274 L57.74971713770372,169.2976454325235 A715.3171721387514 715.3171721387514 0.07941850064506073 0 0 1,167.04297150930068 Z\" style=\"fill: rgb(255, 251, 231);\"/><title>2018 → Scope B\nElectricity\n505</title><text class=\"label\" dy=\"0.35em\" x=\"5\" y=\"163.10416176124323\"/></g><g class=\"link\" style=\"opacity: 0.980969;\"><path d=\"M1,103.58835648693194 A239.05379181942803 239.05379181942803 0.25598785709876903 0 1 61.52870658424245,111.37824912949941 L252.46448855847393,161.35187650794637 A223.28295358067126 223.28295358067126 0.25598785709876903 0 0 309.00000000000006,168.62785495643985 L309.00000000000006,179.14174711561103 A233.79684573984244 233.79684573984244 0.25598785709876903 0 1 249.8023584633297,171.52315920440157 L58.86657648909823,121.5495318259546 A228.53989966025685 228.53989966025685 0.25598785709876903 0 0 1,114.10224864610312 Z\" style=\"fill: rgb(255, 251, 231);\"/><title>2017 → Scope B\nElectricity\n674</title><text class=\"label\" dy=\"0.35em\" x=\"5\" y=\"108.84530256651753\"/></g><g class=\"link\" style=\"opacity: 0.980969;\"><path d=\"M1,226.76936661172593 A358.07454179642895 358.07454179642895 0.15765484606375502 0 0 57.21862355786341,222.32859561212257 L250.01876704560374,191.6783591705734 A375.6704918788401 375.6704918788401 0.15765484606375502 0 1 309.00000000000006,187.01936661172593 L309.00000000000006,198.75000000000003 A363.939858490566 363.939858490566 0.15765484606375502 0 0 251.86050664329235,203.26351151935143 L59.06036315555201,233.9137479609006 A369.80517518470305 369.80517518470305 0.15765484606375502 0 1 1,238.50000000000003 Z\" style=\"fill: rgb(255, 251, 231);\"/><title>other → Scope B\nElectricity\n752</title><text class=\"label\" dy=\"0.35em\" x=\"5\" y=\"232.63468330586298\"/></g><g class=\"link\" style=\"opacity: 0.980969;\"><path d=\"M1,45.57787850247233 A157.38083093464624 157.38083093464624 0.42632972722133666 0 1 66.08198614919662,59.66509121022236 L251.54284204318756,143.89885544805847 A138.94252153977934 138.94252153977934 0.42632972722133666 0 0 309.00000000000006,156.3356486931952 L309.00000000000006,168.62785495643982 A151.23472780302396 151.23472780302396 0.42632972722133666 0 1 246.45962324826482,155.0907820695609 L60.998767354273866,70.85701783172479 A145.08862467140162 145.08862467140162 0.42632972722133666 0 0 1,57.87008476571697 Z\" style=\"fill: rgb(255, 251, 231);\"/><title>2016 → Scope B\nElectricity\n788</title><text class=\"label\" dy=\"0.35em\" x=\"5\" y=\"51.72398163409465\"/></g><g class=\"link\" style=\"opacity: 0.980969;\"><path d=\"M1,140.60224864610313 A190.01044449276924 190.01044449276924 0.2979558269208591 0 0 56.78074247137877,132.23012000569324 L245.16863787595682,74.37659593520291 A217.43391988716527 217.43391988716527 0.2979558269208591 0 1 309.00000000000006,64.7961502236873 L309.00000000000006,82.93807393454202 A199.29199617631056 199.29199617631056 0.2979558269208591 0 0 250.494502868021,91.71916085555935 L62.10660746344291,149.57268492604967 A208.15236820362395 208.15236820362395 0.2979558269208591 0 1 1,158.74417235695785 Z\" style=\"fill: rgb(245, 250, 235);\"/><title>2018 → Scope A\nGas\n1.16k</title><text class=\"label\" dy=\"0.35em\" x=\"5\" y=\"149.6732105015305\"/></g><g class=\"link\" style=\"opacity: 0.980969;\"><path d=\"M1,26.5 A0 0 0 0 0 1,26.5 L309.00000000000006,26.5 A0 0 0 0 0 309.00000000000006,26.5 L309.00000000000006,45.53108076289145 A0 0 0 0 0 309.00000000000006,45.53108076289145 L1,45.53108076289145 A0 0 0 0 0 1,45.53108076289145 Z\" style=\"fill: rgb(245, 250, 235);\"/><title>2016 → Scope A\nGas\n1.22k</title><text class=\"label\" dy=\"0.35em\" x=\"5\" y=\"36.015540381445724\"/></g><g class=\"link\" style=\"opacity: 0.980969;\"><path d=\"M1,84.37008476571697 A363.0412445046165 363.0412445046165 0.1541133957412617 0 0 56.72830624900515,80.0673259217246 L248.85135864251697,50.22192954178874 A391.8374535933851 391.8374535933851 0.1541133957412617 0 1 309.00000000000006,45.57787850247234 L309.00000000000006,64.76495173063338 A372.65038036522407 372.65038036522407 0.1541133957412617 0 0 251.79665234968263,69.18159789440885 L59.67359995617084,99.02699427434473 A382.2283177327775 382.2283177327775 0.1541133957412617 0 1 1,103.55715799387804 Z\" style=\"fill: rgb(245, 250, 235);\"/><title>2017 → Scope A\nGas\n1.23k</title><text class=\"label\" dy=\"0.35em\" x=\"5\" y=\"93.9636213797975\"/></g><g class=\"link\" style=\"opacity: 0.980969;\"><path d=\"M1,193.54297150930068 A129.13666433783732 129.13666433783732 0.42894599652343857 0 0 54.709555229661625,181.8437873612869 L234.6264135131541,99.5595419814903 A178.82026452620556 178.82026452620556 0.42894599652343857 0 1 309.00000000000006,83.35925359076994 L309.00000000000006,116.42965622792558 A145.7498618890499 145.7498618890499 0.42894599652343857 0 0 248.38080794493771,129.63391918864974 L68.46394966144523,211.91816456844634 A162.20706697499293 162.20706697499293 0.42894599652343857 0 1 1,226.61337414645635 Z\" style=\"fill: rgb(245, 250, 235);\"/><title>other → Scope A\nGas\n2.12k</title><text class=\"label\" dy=\"0.35em\" x=\"5\" y=\"210.07817282787852\"/></g></g><g class=\"nodes\"><g class=\"node\" transform=\"translate(0,26.5)\"><title>2016</title><line x1=\"0\" x2=\"0\" y1=\"0\" y2=\"31.370084765716975\" style=\"display: inline; stroke: rgb(0, 0, 0);\"/><rect class=\"node-body\" width=\"1\" height=\"31.370084765716975\" style=\"fill: none;\"/><text class=\"node-value\" dy=\".35em\" text-anchor=\"middle\" transform=\"translate(0.5,15.685042382858487) rotate(-90)\" style=\"display: none;\"/><text class=\"node-title\" dy=\".35em\" text-anchor=\"end\" transform=\"translate(-4,15.685042382858487)\" style=\"display: inline;\">2016</text><rect class=\"node-click-target\" x=\"-5\" y=\"-5\" width=\"10\" height=\"36.370084765716975\" style=\"fill: none; visibility: hidden; pointer-events: all;\"/></g><g class=\"node\" transform=\"translate(0,84.37008476571697)\"><title>2017</title><line x1=\"0\" x2=\"0\" y1=\"0\" y2=\"29.732163880386153\" style=\"display: inline; stroke: rgb(0, 0, 0);\"/><rect class=\"node-body\" width=\"1\" height=\"29.732163880386153\" style=\"fill: none;\"/><text class=\"node-value\" dy=\".35em\" text-anchor=\"middle\" transform=\"translate(0.5,14.866081940193077) rotate(-90)\" style=\"display: none;\"/><text class=\"node-title\" dy=\".35em\" text-anchor=\"end\" transform=\"translate(-4,14.866081940193077)\" style=\"display: inline;\">2017</text><rect class=\"node-click-target\" x=\"-5\" y=\"-5\" width=\"10\" height=\"34.73216388038615\" style=\"fill: none; visibility: hidden; pointer-events: all;\"/></g><g class=\"node\" transform=\"translate(0,140.60224864610313)\"><title>2018</title><line x1=\"0\" x2=\"0\" y1=\"0\" y2=\"26.44072286319755\" style=\"display: inline; stroke: rgb(0, 0, 0);\"/><rect class=\"node-body\" width=\"1\" height=\"26.44072286319755\" style=\"fill: none;\"/><text class=\"node-value\" dy=\".35em\" text-anchor=\"middle\" transform=\"translate(0.5,13.220361431598775) rotate(-90)\" style=\"display: none;\"/><text class=\"node-title\" dy=\".35em\" text-anchor=\"end\" transform=\"translate(-4,13.220361431598775)\" style=\"display: inline;\">2018</text><rect class=\"node-click-target\" x=\"-5\" y=\"-5\" width=\"10\" height=\"31.44072286319755\" style=\"fill: none; visibility: hidden; pointer-events: all;\"/></g><g class=\"node\" transform=\"translate(0,193.54297150930068)\"><title>other</title><line x1=\"0\" x2=\"0\" y1=\"0\" y2=\"44.957028490699315\" style=\"display: inline; stroke: rgb(0, 0, 0);\"/><rect class=\"node-body\" width=\"1\" height=\"44.957028490699315\" style=\"fill: none;\"/><text class=\"node-value\" dy=\".35em\" text-anchor=\"middle\" transform=\"translate(0.5,22.478514245349658) rotate(-90)\" style=\"display: none;\"/><text class=\"node-title\" dy=\".35em\" text-anchor=\"end\" transform=\"translate(-4,22.478514245349658)\" style=\"display: inline;\">other</text><rect class=\"node-click-target\" x=\"-5\" y=\"-5\" width=\"10\" height=\"49.957028490699315\" style=\"fill: none; visibility: hidden; pointer-events: all;\"/></g><g class=\"node\" transform=\"translate(309,26.5)\"><title>Scope A</title><line x1=\"0\" x2=\"0\" y1=\"0\" y2=\"90.0856486931952\" style=\"display: inline; stroke: rgb(0, 0, 0);\"/><rect class=\"node-body\" width=\"1\" height=\"90.0856486931952\" style=\"fill: none;\"/><text class=\"node-value\" dy=\".35em\" text-anchor=\"middle\" transform=\"translate(0.5,45.0428243465976) rotate(-90)\" style=\"display: none;\"/><text class=\"node-title\" dy=\".35em\" text-anchor=\"start\" transform=\"translate(5,45.0428243465976)\" style=\"display: inline;\">Scope A</text><rect class=\"node-click-target\" x=\"-5\" y=\"-5\" width=\"10\" height=\"95.0856486931952\" style=\"fill: none; visibility: hidden; pointer-events: all;\"/></g><g class=\"node\" transform=\"translate(309,156.3356486931952)\"><title>Scope B</title><line x1=\"0\" x2=\"0\" y1=\"0\" y2=\"42.414351306804804\" style=\"display: inline; stroke: rgb(0, 0, 0);\"/><rect class=\"node-body\" width=\"1\" height=\"42.414351306804804\" style=\"fill: none;\"/><text class=\"node-value\" dy=\".35em\" text-anchor=\"middle\" transform=\"translate(0.5,21.207175653402402) rotate(-90)\" style=\"display: none;\"/><text class=\"node-title\" dy=\".35em\" text-anchor=\"start\" transform=\"translate(5,21.207175653402402)\" style=\"display: inline;\">Scope B</text><rect class=\"node-click-target\" x=\"-5\" y=\"-5\" width=\"10\" height=\"47.414351306804804\" style=\"fill: none; visibility: hidden; pointer-events: all;\"/></g><g class=\"node\" transform=\"translate(309,238.5)\"><title>Scope C</title><line x1=\"0\" x2=\"0\" y1=\"0\" y2=\"0\" style=\"display: none; stroke: rgb(0, 0, 0);\"/><rect class=\"node-body\" width=\"1\" height=\"0\" style=\"fill: none;\"/><text class=\"node-value\" dy=\".35em\" text-anchor=\"middle\" transform=\"translate(0.5,0) rotate(0)\" style=\"display: none;\"/><text class=\"node-title\" dy=\".35em\" text-anchor=\"start\" transform=\"translate(5,0)\" style=\"display: none;\">Scope C</text><rect class=\"node-click-target\" x=\"-5\" y=\"-5\" width=\"10\" height=\"5\" style=\"fill: none; visibility: hidden; pointer-events: all;\"/></g></g><g class=\"slice-titles\"/></g></svg>",
            "_view_module_version": "^0.4.1",
            "order": [
              [
                [
                  "years^2016",
                  "years^2017",
                  "years^2018",
                  "years^other"
                ]
              ],
              [
                [
                  "sources^Scope A",
                  "sources^Scope B",
                  "sources^Scope C"
                ]
              ]
            ]
          }
        },
        "d550223bfd8d474893e7ec16330d309e": {
          "model_module": "@jupyter-widgets/base",
          "model_name": "LayoutModel",
          "model_module_version": "1.2.0",
          "state": {
            "_view_name": "LayoutView",
            "grid_template_rows": null,
            "right": null,
            "justify_content": null,
            "_view_module": "@jupyter-widgets/base",
            "overflow": null,
            "_model_module_version": "1.2.0",
            "_view_count": null,
            "flex_flow": null,
            "width": "570",
            "min_width": null,
            "border": null,
            "align_items": null,
            "bottom": null,
            "_model_module": "@jupyter-widgets/base",
            "top": null,
            "grid_column": null,
            "overflow_y": null,
            "overflow_x": null,
            "grid_auto_flow": null,
            "grid_area": null,
            "grid_template_columns": null,
            "flex": null,
            "_model_name": "LayoutModel",
            "justify_items": null,
            "grid_row": null,
            "max_height": null,
            "align_content": null,
            "visibility": null,
            "align_self": null,
            "height": "300",
            "min_height": null,
            "padding": null,
            "grid_auto_rows": null,
            "grid_gap": null,
            "max_width": null,
            "order": null,
            "_view_module_version": "1.2.0",
            "grid_template_areas": null,
            "object_position": null,
            "object_fit": null,
            "grid_auto_columns": null,
            "margin": null,
            "display": null,
            "left": null
          }
        }
      }
    }
  },
  "cells": [
    {
      "cell_type": "markdown",
      "metadata": {
        "id": "view-in-github",
        "colab_type": "text"
      },
      "source": [
        "<a href=\"https://colab.research.google.com/github/JoeyBream/JoeyBream/blob/main/First%20attempt%20-%20using%20'quickstart'.ipynb\" target=\"_parent\"><img src=\"https://colab.research.google.com/assets/colab-badge.svg\" alt=\"Open In Colab\"/></a>"
      ]
    },
    {
      "cell_type": "markdown",
      "metadata": {
        "id": "8CiXkcUb1_FF"
      },
      "source": [
        "# Quickstart tutorial\n",
        "\n",
        "This tutorial will go through the basic ways to use `floweaver` to process and transform data into many different Sankey diagrams.\n",
        "\n",
        ">  If you are reading the static documentation, you can also try an interactive version of this tutorial online [using MyBinder](https://mybinder.org/v2/gh/ricklupton/floweaver/master?filepath=docs%2Ftutorials%2Fquickstart.ipynb)\n",
        "\n",
        "Let's start by making a really simple dataset. Imagine we have some farms, which grow apples and bananas to sell to a few different customers. We can describe the *flow* of fruit from the farms (the *source* of the flow) to the customers (the *target* of the flow):"
      ]
    },
    {
      "cell_type": "code",
      "metadata": {
        "id": "JobO8e30-rnX"
      },
      "source": [
        "from google.colab import output\n",
        "output.enable_custom_widget_manager()"
      ],
      "execution_count": null,
      "outputs": []
    },
    {
      "cell_type": "code",
      "metadata": {
        "id": "QRn0tUkv3iC5"
      },
      "source": [
        "!pip install ipysankeywidget\n",
        "!pip install floweaver\n",
        "from ipysankeywidget import SankeyWidget"
      ],
      "execution_count": null,
      "outputs": []
    },
    {
      "cell_type": "code",
      "metadata": {
        "colab": {
          "base_uri": "https://localhost:8080/",
          "height": 1000
        },
        "id": "GKfK_mD61_FZ",
        "outputId": "9f017f82-3bcb-4dd6-b40c-fd420fd4d651"
      },
      "source": [
        "import pandas as pd\n",
        "flows = pd.read_csv('sankey1.csv')\n",
        "flows"
      ],
      "execution_count": null,
      "outputs": [
        {
          "output_type": "execute_result",
          "data": {
            "text/html": [
              "<div>\n",
              "<style scoped>\n",
              "    .dataframe tbody tr th:only-of-type {\n",
              "        vertical-align: middle;\n",
              "    }\n",
              "\n",
              "    .dataframe tbody tr th {\n",
              "        vertical-align: top;\n",
              "    }\n",
              "\n",
              "    .dataframe thead th {\n",
              "        text-align: right;\n",
              "    }\n",
              "</style>\n",
              "<table border=\"1\" class=\"dataframe\">\n",
              "  <thead>\n",
              "    <tr style=\"text-align: right;\">\n",
              "      <th></th>\n",
              "      <th>source</th>\n",
              "      <th>target</th>\n",
              "      <th>type</th>\n",
              "      <th>value</th>\n",
              "    </tr>\n",
              "  </thead>\n",
              "  <tbody>\n",
              "    <tr>\n",
              "      <th>0</th>\n",
              "      <td>2016</td>\n",
              "      <td>Scope A</td>\n",
              "      <td>Gas</td>\n",
              "      <td>1220</td>\n",
              "    </tr>\n",
              "    <tr>\n",
              "      <th>1</th>\n",
              "      <td>2016</td>\n",
              "      <td>Scope A</td>\n",
              "      <td>Refrigerant</td>\n",
              "      <td>0</td>\n",
              "    </tr>\n",
              "    <tr>\n",
              "      <th>2</th>\n",
              "      <td>2016</td>\n",
              "      <td>Scope A</td>\n",
              "      <td>Diesel + Fuels</td>\n",
              "      <td>3</td>\n",
              "    </tr>\n",
              "    <tr>\n",
              "      <th>3</th>\n",
              "      <td>2016</td>\n",
              "      <td>Scope A</td>\n",
              "      <td>Other</td>\n",
              "      <td>0</td>\n",
              "    </tr>\n",
              "    <tr>\n",
              "      <th>4</th>\n",
              "      <td>2016</td>\n",
              "      <td>Scope B</td>\n",
              "      <td>Electricity</td>\n",
              "      <td>788</td>\n",
              "    </tr>\n",
              "    <tr>\n",
              "      <th>5</th>\n",
              "      <td>2016</td>\n",
              "      <td>Scope B</td>\n",
              "      <td>Food purchased</td>\n",
              "      <td>0</td>\n",
              "    </tr>\n",
              "    <tr>\n",
              "      <th>6</th>\n",
              "      <td>2016</td>\n",
              "      <td>Scope B</td>\n",
              "      <td>Stuff purchased</td>\n",
              "      <td>0</td>\n",
              "    </tr>\n",
              "    <tr>\n",
              "      <th>7</th>\n",
              "      <td>2016</td>\n",
              "      <td>Scope B</td>\n",
              "      <td>Waste produced</td>\n",
              "      <td>0</td>\n",
              "    </tr>\n",
              "    <tr>\n",
              "      <th>8</th>\n",
              "      <td>2016</td>\n",
              "      <td>Scope C</td>\n",
              "      <td>Investments</td>\n",
              "      <td>0</td>\n",
              "    </tr>\n",
              "    <tr>\n",
              "      <th>9</th>\n",
              "      <td>2016</td>\n",
              "      <td>Scope C</td>\n",
              "      <td>Bursaries</td>\n",
              "      <td>0</td>\n",
              "    </tr>\n",
              "    <tr>\n",
              "      <th>10</th>\n",
              "      <td>2016</td>\n",
              "      <td>Scope C</td>\n",
              "      <td>Fellow expenses</td>\n",
              "      <td>0</td>\n",
              "    </tr>\n",
              "    <tr>\n",
              "      <th>11</th>\n",
              "      <td>2016</td>\n",
              "      <td>Scope C</td>\n",
              "      <td>Choir</td>\n",
              "      <td>0</td>\n",
              "    </tr>\n",
              "    <tr>\n",
              "      <th>12</th>\n",
              "      <td>2017</td>\n",
              "      <td>Scope A</td>\n",
              "      <td>Gas</td>\n",
              "      <td>1230</td>\n",
              "    </tr>\n",
              "    <tr>\n",
              "      <th>13</th>\n",
              "      <td>2017</td>\n",
              "      <td>Scope A</td>\n",
              "      <td>Refrigerant</td>\n",
              "      <td>0</td>\n",
              "    </tr>\n",
              "    <tr>\n",
              "      <th>14</th>\n",
              "      <td>2017</td>\n",
              "      <td>Scope A</td>\n",
              "      <td>Diesel + Fuels</td>\n",
              "      <td>2</td>\n",
              "    </tr>\n",
              "    <tr>\n",
              "      <th>15</th>\n",
              "      <td>2017</td>\n",
              "      <td>Scope A</td>\n",
              "      <td>Other</td>\n",
              "      <td>0</td>\n",
              "    </tr>\n",
              "    <tr>\n",
              "      <th>16</th>\n",
              "      <td>2017</td>\n",
              "      <td>Scope B</td>\n",
              "      <td>Electricity</td>\n",
              "      <td>674</td>\n",
              "    </tr>\n",
              "    <tr>\n",
              "      <th>17</th>\n",
              "      <td>2017</td>\n",
              "      <td>Scope B</td>\n",
              "      <td>Food purchased</td>\n",
              "      <td>0</td>\n",
              "    </tr>\n",
              "    <tr>\n",
              "      <th>18</th>\n",
              "      <td>2017</td>\n",
              "      <td>Scope B</td>\n",
              "      <td>Stuff purchased</td>\n",
              "      <td>0</td>\n",
              "    </tr>\n",
              "    <tr>\n",
              "      <th>19</th>\n",
              "      <td>2017</td>\n",
              "      <td>Scope B</td>\n",
              "      <td>Waste produced</td>\n",
              "      <td>0</td>\n",
              "    </tr>\n",
              "    <tr>\n",
              "      <th>20</th>\n",
              "      <td>2017</td>\n",
              "      <td>Scope C</td>\n",
              "      <td>Investments</td>\n",
              "      <td>0</td>\n",
              "    </tr>\n",
              "    <tr>\n",
              "      <th>21</th>\n",
              "      <td>2017</td>\n",
              "      <td>Scope C</td>\n",
              "      <td>Bursaries</td>\n",
              "      <td>0</td>\n",
              "    </tr>\n",
              "    <tr>\n",
              "      <th>22</th>\n",
              "      <td>2017</td>\n",
              "      <td>Scope C</td>\n",
              "      <td>Fellow expenses</td>\n",
              "      <td>0</td>\n",
              "    </tr>\n",
              "    <tr>\n",
              "      <th>23</th>\n",
              "      <td>2017</td>\n",
              "      <td>Scope C</td>\n",
              "      <td>Choir</td>\n",
              "      <td>0</td>\n",
              "    </tr>\n",
              "    <tr>\n",
              "      <th>24</th>\n",
              "      <td>2018</td>\n",
              "      <td>Scope A</td>\n",
              "      <td>Gas</td>\n",
              "      <td>1163</td>\n",
              "    </tr>\n",
              "    <tr>\n",
              "      <th>25</th>\n",
              "      <td>2018</td>\n",
              "      <td>Scope A</td>\n",
              "      <td>Refrigerant</td>\n",
              "      <td>25</td>\n",
              "    </tr>\n",
              "    <tr>\n",
              "      <th>26</th>\n",
              "      <td>2018</td>\n",
              "      <td>Scope A</td>\n",
              "      <td>Diesel + Fuels</td>\n",
              "      <td>2</td>\n",
              "    </tr>\n",
              "    <tr>\n",
              "      <th>27</th>\n",
              "      <td>2018</td>\n",
              "      <td>Scope A</td>\n",
              "      <td>Other</td>\n",
              "      <td>0</td>\n",
              "    </tr>\n",
              "    <tr>\n",
              "      <th>28</th>\n",
              "      <td>2018</td>\n",
              "      <td>Scope B</td>\n",
              "      <td>Electricity</td>\n",
              "      <td>505</td>\n",
              "    </tr>\n",
              "    <tr>\n",
              "      <th>29</th>\n",
              "      <td>2018</td>\n",
              "      <td>Scope B</td>\n",
              "      <td>Food purchased</td>\n",
              "      <td>0</td>\n",
              "    </tr>\n",
              "    <tr>\n",
              "      <th>30</th>\n",
              "      <td>2018</td>\n",
              "      <td>Scope B</td>\n",
              "      <td>Stuff purchased</td>\n",
              "      <td>0</td>\n",
              "    </tr>\n",
              "    <tr>\n",
              "      <th>31</th>\n",
              "      <td>2018</td>\n",
              "      <td>Scope B</td>\n",
              "      <td>Waste produced</td>\n",
              "      <td>0</td>\n",
              "    </tr>\n",
              "    <tr>\n",
              "      <th>32</th>\n",
              "      <td>2018</td>\n",
              "      <td>Scope C</td>\n",
              "      <td>Investments</td>\n",
              "      <td>0</td>\n",
              "    </tr>\n",
              "    <tr>\n",
              "      <th>33</th>\n",
              "      <td>2018</td>\n",
              "      <td>Scope C</td>\n",
              "      <td>Bursaries</td>\n",
              "      <td>0</td>\n",
              "    </tr>\n",
              "    <tr>\n",
              "      <th>34</th>\n",
              "      <td>2018</td>\n",
              "      <td>Scope C</td>\n",
              "      <td>Fellow expenses</td>\n",
              "      <td>0</td>\n",
              "    </tr>\n",
              "    <tr>\n",
              "      <th>35</th>\n",
              "      <td>2018</td>\n",
              "      <td>Scope C</td>\n",
              "      <td>Choir</td>\n",
              "      <td>0</td>\n",
              "    </tr>\n",
              "    <tr>\n",
              "      <th>36</th>\n",
              "      <td>2019</td>\n",
              "      <td>Scope A</td>\n",
              "      <td>Gas</td>\n",
              "      <td>1193</td>\n",
              "    </tr>\n",
              "    <tr>\n",
              "      <th>37</th>\n",
              "      <td>2019</td>\n",
              "      <td>Scope A</td>\n",
              "      <td>Refrigerant</td>\n",
              "      <td>7</td>\n",
              "    </tr>\n",
              "    <tr>\n",
              "      <th>38</th>\n",
              "      <td>2019</td>\n",
              "      <td>Scope A</td>\n",
              "      <td>Diesel + Fuels</td>\n",
              "      <td>2</td>\n",
              "    </tr>\n",
              "    <tr>\n",
              "      <th>39</th>\n",
              "      <td>2019</td>\n",
              "      <td>Scope A</td>\n",
              "      <td>Other</td>\n",
              "      <td>0</td>\n",
              "    </tr>\n",
              "    <tr>\n",
              "      <th>40</th>\n",
              "      <td>2019</td>\n",
              "      <td>Scope B</td>\n",
              "      <td>Electricity</td>\n",
              "      <td>434</td>\n",
              "    </tr>\n",
              "    <tr>\n",
              "      <th>41</th>\n",
              "      <td>2019</td>\n",
              "      <td>Scope B</td>\n",
              "      <td>Food purchased</td>\n",
              "      <td>0</td>\n",
              "    </tr>\n",
              "    <tr>\n",
              "      <th>42</th>\n",
              "      <td>2019</td>\n",
              "      <td>Scope B</td>\n",
              "      <td>Stuff purchased</td>\n",
              "      <td>0</td>\n",
              "    </tr>\n",
              "    <tr>\n",
              "      <th>43</th>\n",
              "      <td>2019</td>\n",
              "      <td>Scope B</td>\n",
              "      <td>Waste produced</td>\n",
              "      <td>0</td>\n",
              "    </tr>\n",
              "    <tr>\n",
              "      <th>44</th>\n",
              "      <td>2019</td>\n",
              "      <td>Scope C</td>\n",
              "      <td>Investments</td>\n",
              "      <td>0</td>\n",
              "    </tr>\n",
              "    <tr>\n",
              "      <th>45</th>\n",
              "      <td>2019</td>\n",
              "      <td>Scope C</td>\n",
              "      <td>Bursaries</td>\n",
              "      <td>0</td>\n",
              "    </tr>\n",
              "    <tr>\n",
              "      <th>46</th>\n",
              "      <td>2019</td>\n",
              "      <td>Scope C</td>\n",
              "      <td>Fellow expenses</td>\n",
              "      <td>0</td>\n",
              "    </tr>\n",
              "    <tr>\n",
              "      <th>47</th>\n",
              "      <td>2019</td>\n",
              "      <td>Scope C</td>\n",
              "      <td>Choir</td>\n",
              "      <td>0</td>\n",
              "    </tr>\n",
              "    <tr>\n",
              "      <th>48</th>\n",
              "      <td>2020</td>\n",
              "      <td>Scope A</td>\n",
              "      <td>Gas</td>\n",
              "      <td>927</td>\n",
              "    </tr>\n",
              "    <tr>\n",
              "      <th>49</th>\n",
              "      <td>2020</td>\n",
              "      <td>Scope A</td>\n",
              "      <td>Refrigerant</td>\n",
              "      <td>0</td>\n",
              "    </tr>\n",
              "    <tr>\n",
              "      <th>50</th>\n",
              "      <td>2020</td>\n",
              "      <td>Scope A</td>\n",
              "      <td>Diesel + Fuels</td>\n",
              "      <td>1</td>\n",
              "    </tr>\n",
              "    <tr>\n",
              "      <th>51</th>\n",
              "      <td>2020</td>\n",
              "      <td>Scope A</td>\n",
              "      <td>Other</td>\n",
              "      <td>0</td>\n",
              "    </tr>\n",
              "    <tr>\n",
              "      <th>52</th>\n",
              "      <td>2020</td>\n",
              "      <td>Scope B</td>\n",
              "      <td>Electricity</td>\n",
              "      <td>318</td>\n",
              "    </tr>\n",
              "    <tr>\n",
              "      <th>53</th>\n",
              "      <td>2020</td>\n",
              "      <td>Scope B</td>\n",
              "      <td>Food purchased</td>\n",
              "      <td>0</td>\n",
              "    </tr>\n",
              "    <tr>\n",
              "      <th>54</th>\n",
              "      <td>2020</td>\n",
              "      <td>Scope B</td>\n",
              "      <td>Stuff purchased</td>\n",
              "      <td>0</td>\n",
              "    </tr>\n",
              "    <tr>\n",
              "      <th>55</th>\n",
              "      <td>2020</td>\n",
              "      <td>Scope B</td>\n",
              "      <td>Waste produced</td>\n",
              "      <td>0</td>\n",
              "    </tr>\n",
              "    <tr>\n",
              "      <th>56</th>\n",
              "      <td>2020</td>\n",
              "      <td>Scope C</td>\n",
              "      <td>Investments</td>\n",
              "      <td>0</td>\n",
              "    </tr>\n",
              "    <tr>\n",
              "      <th>57</th>\n",
              "      <td>2020</td>\n",
              "      <td>Scope C</td>\n",
              "      <td>Bursaries</td>\n",
              "      <td>0</td>\n",
              "    </tr>\n",
              "    <tr>\n",
              "      <th>58</th>\n",
              "      <td>2020</td>\n",
              "      <td>Scope C</td>\n",
              "      <td>Fellow expenses</td>\n",
              "      <td>0</td>\n",
              "    </tr>\n",
              "    <tr>\n",
              "      <th>59</th>\n",
              "      <td>2020</td>\n",
              "      <td>Scope C</td>\n",
              "      <td>Choir</td>\n",
              "      <td>0</td>\n",
              "    </tr>\n",
              "  </tbody>\n",
              "</table>\n",
              "</div>"
            ],
            "text/plain": [
              "    source   target             type  value\n",
              "0     2016  Scope A              Gas   1220\n",
              "1     2016  Scope A      Refrigerant      0\n",
              "2     2016  Scope A   Diesel + Fuels      3\n",
              "3     2016  Scope A            Other      0\n",
              "4     2016  Scope B      Electricity    788\n",
              "5     2016  Scope B   Food purchased      0\n",
              "6     2016  Scope B  Stuff purchased      0\n",
              "7     2016  Scope B   Waste produced      0\n",
              "8     2016  Scope C      Investments      0\n",
              "9     2016  Scope C        Bursaries      0\n",
              "10    2016  Scope C  Fellow expenses      0\n",
              "11    2016  Scope C            Choir      0\n",
              "12    2017  Scope A              Gas   1230\n",
              "13    2017  Scope A      Refrigerant      0\n",
              "14    2017  Scope A   Diesel + Fuels      2\n",
              "15    2017  Scope A            Other      0\n",
              "16    2017  Scope B      Electricity    674\n",
              "17    2017  Scope B   Food purchased      0\n",
              "18    2017  Scope B  Stuff purchased      0\n",
              "19    2017  Scope B   Waste produced      0\n",
              "20    2017  Scope C      Investments      0\n",
              "21    2017  Scope C        Bursaries      0\n",
              "22    2017  Scope C  Fellow expenses      0\n",
              "23    2017  Scope C            Choir      0\n",
              "24    2018  Scope A              Gas   1163\n",
              "25    2018  Scope A      Refrigerant     25\n",
              "26    2018  Scope A   Diesel + Fuels      2\n",
              "27    2018  Scope A            Other      0\n",
              "28    2018  Scope B      Electricity    505\n",
              "29    2018  Scope B   Food purchased      0\n",
              "30    2018  Scope B  Stuff purchased      0\n",
              "31    2018  Scope B   Waste produced      0\n",
              "32    2018  Scope C      Investments      0\n",
              "33    2018  Scope C        Bursaries      0\n",
              "34    2018  Scope C  Fellow expenses      0\n",
              "35    2018  Scope C            Choir      0\n",
              "36    2019  Scope A              Gas   1193\n",
              "37    2019  Scope A      Refrigerant      7\n",
              "38    2019  Scope A   Diesel + Fuels      2\n",
              "39    2019  Scope A            Other      0\n",
              "40    2019  Scope B      Electricity    434\n",
              "41    2019  Scope B   Food purchased      0\n",
              "42    2019  Scope B  Stuff purchased      0\n",
              "43    2019  Scope B   Waste produced      0\n",
              "44    2019  Scope C      Investments      0\n",
              "45    2019  Scope C        Bursaries      0\n",
              "46    2019  Scope C  Fellow expenses      0\n",
              "47    2019  Scope C            Choir      0\n",
              "48    2020  Scope A              Gas    927\n",
              "49    2020  Scope A      Refrigerant      0\n",
              "50    2020  Scope A   Diesel + Fuels      1\n",
              "51    2020  Scope A            Other      0\n",
              "52    2020  Scope B      Electricity    318\n",
              "53    2020  Scope B   Food purchased      0\n",
              "54    2020  Scope B  Stuff purchased      0\n",
              "55    2020  Scope B   Waste produced      0\n",
              "56    2020  Scope C      Investments      0\n",
              "57    2020  Scope C        Bursaries      0\n",
              "58    2020  Scope C  Fellow expenses      0\n",
              "59    2020  Scope C            Choir      0"
            ]
          },
          "metadata": {},
          "execution_count": 30
        }
      ]
    },
    {
      "cell_type": "markdown",
      "metadata": {
        "id": "b0a8Bl5h1_Fe"
      },
      "source": [
        "Drawn directly as a Sankey diagram, this data would look something like this:"
      ]
    },
    {
      "cell_type": "code",
      "metadata": {
        "colab": {
          "base_uri": "https://localhost:8080/",
          "height": 170,
          "referenced_widgets": [
            "7b677e89ca8942259b599870d8f649ef",
            "f83d5d74775b44da989d37f1d6983fd3"
          ]
        },
        "id": "gFXhmlOf1_Fg",
        "outputId": "b024952b-2bc1-4841-f3c0-cc1d660e92d5"
      },
      "source": [
        "SankeyWidget(links=flows.to_dict('records'))"
      ],
      "execution_count": null,
      "outputs": [
        {
          "output_type": "display_data",
          "data": {
            "application/vnd.jupyter.widget-view+json": {
              "model_id": "7b677e89ca8942259b599870d8f649ef",
              "version_minor": 0,
              "version_major": 2
            },
            "text/plain": [
              "SankeyWidget(links=[{'source': 2016, 'target': 'Scope A', 'type': 'Gas', 'value': 1220}, {'source': 2016, 'tar…"
            ]
          },
          "metadata": {
            "application/vnd.jupyter.widget-view+json": {
              "colab": {
                "custom_widget_manager": {
                  "url": "https://ssl.gstatic.com/colaboratory-static/widgets/colab-cdn-widget-manager/e680a8b83b2ea152/manager.min.js"
                }
              }
            }
          }
        }
      ]
    },
    {
      "cell_type": "markdown",
      "metadata": {
        "id": "ldTmt1_61_Fi"
      },
      "source": [
        "But you don't always want a direct correspondence between the flows in your data and the links that you see in the Sankey diagram. For example:\n",
        "\n",
        "* Farms 4, 5 and 6 are all pretty small, and to make the diagram clearer we might want to group them in an \"other\" category.\n",
        "* The flows of apples are mixed in with the flows of bananas -- we might want to group the kinds of fruit together to make them easier to compare\n",
        "* We might want to group farms or customers based on some other attributes -- to see difference between genders, locations, or organic/non-organic farms, say.\n",
        "\n",
        "This introduction shows how to use `floweaver` to do some of these for this simple example, in the simplest possible way. Later tutorials will show how to use it on real data, and more efficient ways to do the same things.\n",
        "\n",
        "## Basic diagram\n",
        "\n",
        "Let's start with the first example: grouping farms 4, 5 and 6 into an \"other\" category. `floweaver` works by setting up a \"Sankey diagram definition\" which describes the structure of the diagram we want to see. In this case, we need to set up some groups:"
      ]
    },
    {
      "cell_type": "code",
      "metadata": {
        "collapsed": true,
        "id": "079i8Eb81_Fl"
      },
      "source": [
        "from floweaver import *\n",
        "\n",
        "# Set the default size to fit the documentation better.\n",
        "size = dict(width=570, height=300)\n",
        "\n",
        "nodes = {\n",
        "    'years': ProcessGroup(['2016', '2017', '2018', \n",
        "                           '2019', '2020']),\n",
        "    'sources': ProcessGroup(['Scope A', 'Scope B', 'Scope C']),\n",
        "}"
      ],
      "execution_count": null,
      "outputs": []
    },
    {
      "cell_type": "markdown",
      "metadata": {
        "id": "uVHpQQ4V4dM6"
      },
      "source": [
        ""
      ]
    },
    {
      "cell_type": "markdown",
      "metadata": {
        "id": "FW6qtIYN1_Fn"
      },
      "source": [
        "We need to describe roughly how these groups should be placed in the final diagram by defining an \"ordering\" -- a list of vertical slices, each containing a list of node ids:"
      ]
    },
    {
      "cell_type": "code",
      "metadata": {
        "collapsed": true,
        "id": "hA6gtVBH1_Fo"
      },
      "source": [
        "ordering = [\n",
        "    ['years'],       # put \"years\" on the left...\n",
        "    ['sources'],   # ... and \"sources\" on the right.\n",
        "]"
      ],
      "execution_count": null,
      "outputs": []
    },
    {
      "cell_type": "markdown",
      "metadata": {
        "id": "0ujayGk21_Fu"
      },
      "source": [
        "And we also need to say which connections should appear in the diagram (sometimes you don't want to actually see all the connections). This is called a \"bundle\" because it bundles up multiple flows -- in this case all of them."
      ]
    },
    {
      "cell_type": "code",
      "metadata": {
        "collapsed": true,
        "id": "dzq2MXXD1_Fw"
      },
      "source": [
        "bundles = [\n",
        "    Bundle('years', 'sources'),\n",
        "]"
      ],
      "execution_count": null,
      "outputs": []
    },
    {
      "cell_type": "markdown",
      "metadata": {
        "id": "Zs2obrQ41_Fy"
      },
      "source": [
        "Putting that together into a Sankey diagram definition (SDD) and applying it to the data gives this result:"
      ]
    },
    {
      "cell_type": "code",
      "metadata": {
        "colab": {
          "base_uri": "https://localhost:8080/",
          "height": 170,
          "referenced_widgets": [
            "8ed695ffa5b14bc895650307082b3217",
            "6eee1cc6539f420f924eed3ecf187f58"
          ]
        },
        "id": "EH_aNFGJ1_F0",
        "outputId": "6224fdc2-079d-465c-8421-d83e5c5b9cbc"
      },
      "source": [
        "sdd = SankeyDefinition(nodes, bundles, ordering)\n",
        "weave(sdd, flows).to_widget(**size)"
      ],
      "execution_count": null,
      "outputs": [
        {
          "output_type": "display_data",
          "data": {
            "application/vnd.jupyter.widget-view+json": {
              "model_id": "8ed695ffa5b14bc895650307082b3217",
              "version_minor": 0,
              "version_major": 2
            },
            "text/plain": [
              "SankeyWidget(layout=Layout(height='300', width='570'), links=[{'source': 'years^*', 'target': 'sources^*', 'ty…"
            ]
          },
          "metadata": {
            "application/vnd.jupyter.widget-view+json": {
              "colab": {
                "custom_widget_manager": {
                  "url": "https://ssl.gstatic.com/colaboratory-static/widgets/colab-cdn-widget-manager/e680a8b83b2ea152/manager.min.js"
                }
              }
            }
          }
        }
      ]
    },
    {
      "cell_type": "markdown",
      "metadata": {
        "id": "4b-wmtTI1_F3"
      },
      "source": [
        "That's not very useful. What's happened? Every farm and every customer has been lumped together into one group. To get the picture we want -- like the first one, but with an \"other\" group containing farms 4, 5 and 6 -- we need to *partition* the groups:"
      ]
    },
    {
      "cell_type": "code",
      "metadata": {
        "colab": {
          "base_uri": "https://localhost:8080/",
          "height": 170,
          "referenced_widgets": [
            "592b7200fafd4b2ca95b815ec7730fa1",
            "411b9fb8d3ef46aa848b0ab90af1bde4"
          ]
        },
        "id": "a2NdTXpi1_F5",
        "outputId": "38d1b84e-72f8-47d8-b46e-88d5ba5acf9c"
      },
      "source": [
        "# The first argument is the dimension name -- for now we're using\n",
        "# \"process\" to group by process ids. The second argument is a list\n",
        "# of groups.\n",
        "years_separated = Partition.Simple('process', [\n",
        "    '2016',  # the groups within the partition can be a single id...\n",
        "    '2017',\n",
        "    '2018',\n",
        "    ('other', ['2019', '2020']),   # ... or a group\n",
        "])\n",
        "\n",
        "# This is another partition.\n",
        "scopes_separated = Partition.Simple('process', [\n",
        "    'Scope A', 'Scope B', 'Scope C', 'Scope D'\n",
        "])\n",
        "\n",
        "# Update the ProcessGroup nodes to use the partitions\n",
        "nodes['years'].partition = years_separated\n",
        "nodes['sources'].partition = scopes_separated\n",
        "\n",
        "# New Sankey!\n",
        "weave(sdd, flows).to_widget(**size)"
      ],
      "execution_count": null,
      "outputs": [
        {
          "output_type": "display_data",
          "data": {
            "application/vnd.jupyter.widget-view+json": {
              "model_id": "592b7200fafd4b2ca95b815ec7730fa1",
              "version_minor": 0,
              "version_major": 2
            },
            "text/plain": [
              "SankeyWidget(groups=[{'id': 'years', 'type': 'process', 'title': '', 'nodes': ['years^2016', 'years^2017', 'ye…"
            ]
          },
          "metadata": {
            "application/vnd.jupyter.widget-view+json": {
              "colab": {
                "custom_widget_manager": {
                  "url": "https://ssl.gstatic.com/colaboratory-static/widgets/colab-cdn-widget-manager/e680a8b83b2ea152/manager.min.js"
                }
              }
            }
          }
        }
      ]
    },
    {
      "cell_type": "markdown",
      "metadata": {
        "id": "XbBDjChK1_F8"
      },
      "source": [
        "That's better: now the farms are split up appropriately with an \"other\" category, and the customers are shown separately as well. We don't have to stop there -- what about showing sales to men and women?"
      ]
    },
    {
      "cell_type": "code",
      "metadata": {
        "id": "xopBkvYX1_F9"
      },
      "source": [
        "customers_by_gender = Partition.Simple('process', [\n",
        "    ('Men', ['Fred', 'James']),\n",
        "    ('Women', ['Susan', 'Mary']),\n",
        "])\n",
        "\n",
        "nodes['customers'].partition = customers_by_gender\n",
        "\n",
        "weave(sdd, flows).to_widget(**size).auto_save_png('quickstart_example1.png')"
      ],
      "execution_count": null,
      "outputs": []
    },
    {
      "cell_type": "markdown",
      "metadata": {
        "id": "gblt2AIW1_F_"
      },
      "source": [
        "> There is a better way of specifying this type of partition that doesn't involve hard-coding who's a man and who's a woman into the code -- see the later tutorial on using *dimension tables*.\n",
        "\n",
        "## Distinguishing flow types\n",
        "\n",
        "These diagrams have lost sight of the kind of fruit that is actually being sold -- are the men buying apples, bananas or both from farm1? To show this we need to split up the flows in the diagram based on their *type*. Just like we split up the `ProcessGroups` by defining a partition of processes, we split up flows by defining a partition of flows.\n",
        "\n",
        "(While we're at it let's choose some colours that look vaguely like apples and bananas)"
      ]
    },
    {
      "cell_type": "code",
      "metadata": {
        "colab": {
          "base_uri": "https://localhost:8080/",
          "height": 321,
          "referenced_widgets": [
            "5704441b0f3d4033972ffd89b402c3cb",
            "d550223bfd8d474893e7ec16330d309e"
          ]
        },
        "id": "lnRj9vrj1_GA",
        "outputId": "c6d7bc0d-9b5b-4039-b95c-ae692260ed73"
      },
      "source": [
        "# Another partition -- but this time the dimension is the \"type\"\n",
        "# column of the flows table\n",
        "sources_by_type = Partition.Simple('type', \n",
        "            ['Gas',\n",
        "            ('other', ['Refrigerant','Diesel + Fuels','Other']), \n",
        "             'Electricity',\n",
        "             ('other1', ['Food purchased','Stuff purchased','Waste produced']),\n",
        "             ])\n",
        "\n",
        "# Set the colours for the labels in the partition.\n",
        "palette = {'Gas': 'yellowgreen', 'other': 'red', \n",
        "           'Electricity': 'gold', 'other1': 'cyan'}\n",
        "\n",
        "# New SDD with the flow_partition set\n",
        "sdd = SankeyDefinition(nodes, bundles, ordering, \n",
        "                       flow_partition=sources_by_type)\n",
        "\n",
        "weave(sdd, flows, palette=palette).to_widget(**size)"
      ],
      "execution_count": null,
      "outputs": [
        {
          "output_type": "display_data",
          "data": {
            "application/vnd.jupyter.widget-view+json": {
              "model_id": "5704441b0f3d4033972ffd89b402c3cb",
              "version_minor": 0,
              "version_major": 2
            },
            "text/plain": [
              "SankeyWidget(groups=[{'id': 'years', 'type': 'process', 'title': '', 'nodes': ['years^2016', 'years^2017', 'ye…"
            ]
          },
          "metadata": {
            "application/vnd.jupyter.widget-view+json": {
              "colab": {
                "custom_widget_manager": {
                  "url": "https://ssl.gstatic.com/colaboratory-static/widgets/colab-cdn-widget-manager/e680a8b83b2ea152/manager.min.js"
                }
              }
            }
          }
        }
      ]
    },
    {
      "cell_type": "markdown",
      "metadata": {
        "id": "d9DuXhBd1_GB"
      },
      "source": [
        "As a last step, it would be nice to label which flows are apples and which are bananas. One way to do this would be to use a legend next to the diagram, or to put labels on every flow. Here, we'll add a new layer in the middle of the diagram which temporarily groups together the different fruit types on their way from the farms to the customers. This temporary/additional grouping point is called a *waypoint*.\n",
        "\n",
        "To add a waypoint, we need to do three things:\n",
        "\n",
        "1. Define it as a node\n",
        "2. Position it in the ordering (between `farms` and `customers`)\n",
        "3. Add it to the bundle"
      ]
    },
    {
      "cell_type": "code",
      "metadata": {
        "id": "ko_5QZ0t1_GC"
      },
      "source": [
        "# 1. Define a new waypoint node\n",
        "nodes['waypoint'] = Waypoint()\n",
        "\n",
        "# 2. Update the ordering to show where the waypoint goes: in the middle\n",
        "ordering = [\n",
        "    ['farms'],\n",
        "    ['waypoint'],\n",
        "    ['customers'],\n",
        "]\n",
        "\n",
        "# 3. Update the bundle definition to send the flows via the waypoint\n",
        "bundles = [\n",
        "    Bundle('farms', 'customers', waypoints=['waypoint']),\n",
        "]\n",
        "\n",
        "# Update the SDD with the new nodes, ordering & bundles.\n",
        "sdd = SankeyDefinition(nodes, bundles, ordering, \n",
        "                       flow_partition=fruits_by_type)\n",
        "\n",
        "weave(sdd, flows, palette=palette).to_widget(**size)"
      ],
      "execution_count": null,
      "outputs": []
    },
    {
      "cell_type": "markdown",
      "metadata": {
        "id": "eYcbVb_S1_GF"
      },
      "source": [
        "That's not yet very useful. Just like above, the default for Waypoints is to group everything togeter. We need to set a partition on the waypoint to split apart apples and bananas:"
      ]
    },
    {
      "cell_type": "code",
      "metadata": {
        "id": "h0nzd-5K1_GG"
      },
      "source": [
        "# Redefine the waypoint with a partition (same one defined above)\n",
        "nodes['waypoint'] = Waypoint(fruits_by_type)\n",
        "\n",
        "weave(sdd, flows, palette=palette).to_widget(**size)"
      ],
      "execution_count": null,
      "outputs": []
    },
    {
      "cell_type": "markdown",
      "metadata": {
        "id": "wep9isuv1_GI"
      },
      "source": [
        "## Summary\n",
        "\n",
        "This has demonstrated the basic usage of `floweaver`: defining `ProcessGroup`s, `Waypoint`s, `Partition`s, and `Bundle`s. If you are reading the interactive version, why not go back and try out some different ways to present the data? Here are some suggestions:\n",
        "\n",
        "1. Farms 1, 3 and 5 are organic. Can you change the farm Partition to show two groups, organic and non-organic?\n",
        "2. What happens if you remove `\"farm1\"` from the original definition of the `farms` `ProcessGroup`? (Hint: those apples that James and Mary are eating have to come from somewhere -- so they are shown as coming from \"elsewhere\". See [later tutorial on moving the system boundary](/tutorials/system-boundary.ipynb))\n",
        "\n",
        "If you are reading the static documentation, you can easily experiment with editing and rerunning this tutorial online [using MyBinder](https://mybinder.org/v2/gh/ricklupton/floweaver/master?filepath=docs%2Ftutorials%2Fquickstart.ipynb), or download it to run on your computer from [GitHub](https://github.com/ricklupton/floweaver/archive/master.zip)."
      ]
    }
  ]
}